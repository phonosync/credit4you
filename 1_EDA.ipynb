{
 "cells": [
  {
   "cell_type": "code",
   "execution_count": 40,
   "id": "e9f05f8b-3fcc-4421-bc39-046d10fd908b",
   "metadata": {},
   "outputs": [],
   "source": [
    "import pandas as pd\n",
    "import numpy as np\n",
    "import os\n",
    "from joblib import dump, load\n",
    "from sklearn.pipeline import Pipeline\n",
    "from sklearn import set_config\n",
    "from sklearn.compose import ColumnTransformer\n",
    "from sklearn.preprocessing import OneHotEncoder\n",
    "from sklearn.impute import SimpleImputer\n",
    "from sklearn.model_selection import train_test_split\n",
    "from sklearn.linear_model import LogisticRegression\n",
    "from dotenv import load_dotenv"
   ]
  },
  {
   "cell_type": "code",
   "execution_count": 2,
   "id": "3fa97085-da5c-4346-896c-2e0f6fd50afb",
   "metadata": {},
   "outputs": [],
   "source": [
    "load_dotenv()\n",
    "data_basepath = os.environ['DATA_BASEPATH']\n",
    "fn = 'Bonität Auszug 14-10-2022 export.csv'"
   ]
  },
  {
   "cell_type": "code",
   "execution_count": 17,
   "id": "00d188d5-4c67-4b17-834a-ddda190a177d",
   "metadata": {},
   "outputs": [],
   "source": [
    "df = pd.read_csv(os.path.join(data_basepath, fn), sep=';')"
   ]
  },
  {
   "cell_type": "code",
   "execution_count": 18,
   "id": "6982a55e-0cfb-4f21-82a5-53cc56c4f20c",
   "metadata": {},
   "outputs": [],
   "source": [
    "y = df['Risiko']"
   ]
  },
  {
   "cell_type": "code",
   "execution_count": 19,
   "id": "88ca30e2-82ad-4f3b-8526-3b23c54937a1",
   "metadata": {},
   "outputs": [],
   "source": [
    "df['Geschlecht']=df['Geschlecht'].replace({0:'weiblich', 1:'männlich'})"
   ]
  },
  {
   "cell_type": "code",
   "execution_count": 20,
   "id": "f5d0d4a4-b53e-482a-b4bc-c00c32c66b03",
   "metadata": {},
   "outputs": [],
   "source": [
    "df_X = df.drop(['Index', 'Risiko'], axis=1)"
   ]
  },
  {
   "cell_type": "code",
   "execution_count": 21,
   "id": "edb19a0a-74c9-4410-979c-1a08c168e6ce",
   "metadata": {},
   "outputs": [
    {
     "data": {
      "text/html": [
       "<div>\n",
       "<style scoped>\n",
       "    .dataframe tbody tr th:only-of-type {\n",
       "        vertical-align: middle;\n",
       "    }\n",
       "\n",
       "    .dataframe tbody tr th {\n",
       "        vertical-align: top;\n",
       "    }\n",
       "\n",
       "    .dataframe thead th {\n",
       "        text-align: right;\n",
       "    }\n",
       "</style>\n",
       "<table border=\"1\" class=\"dataframe\">\n",
       "  <thead>\n",
       "    <tr style=\"text-align: right;\">\n",
       "      <th></th>\n",
       "      <th>Alter</th>\n",
       "      <th>Geschlecht</th>\n",
       "      <th>Arbeitsstelle</th>\n",
       "      <th>Wohnsituation</th>\n",
       "      <th>Sparkonto</th>\n",
       "      <th>Lohnkonto</th>\n",
       "      <th>Kreditbetrag</th>\n",
       "      <th>Laufzeit</th>\n",
       "      <th>Verwendungszweck</th>\n",
       "    </tr>\n",
       "  </thead>\n",
       "  <tbody>\n",
       "    <tr>\n",
       "      <th>0</th>\n",
       "      <td>67</td>\n",
       "      <td>weiblich</td>\n",
       "      <td>mittlere Qualifikation</td>\n",
       "      <td>Eigentum</td>\n",
       "      <td>NaN</td>\n",
       "      <td>gering</td>\n",
       "      <td>5076</td>\n",
       "      <td>6</td>\n",
       "      <td>Unterhaltungselektronik</td>\n",
       "    </tr>\n",
       "    <tr>\n",
       "      <th>1</th>\n",
       "      <td>22</td>\n",
       "      <td>männlich</td>\n",
       "      <td>mittlere Qualifikation</td>\n",
       "      <td>Eigentum</td>\n",
       "      <td>gering</td>\n",
       "      <td>mittel</td>\n",
       "      <td>25840</td>\n",
       "      <td>48</td>\n",
       "      <td>Unterhaltungselektronik</td>\n",
       "    </tr>\n",
       "    <tr>\n",
       "      <th>2</th>\n",
       "      <td>49</td>\n",
       "      <td>weiblich</td>\n",
       "      <td>niedrige Qualifikation - permanent</td>\n",
       "      <td>Eigentum</td>\n",
       "      <td>gering</td>\n",
       "      <td>NaN</td>\n",
       "      <td>9101</td>\n",
       "      <td>12</td>\n",
       "      <td>Ausbildung</td>\n",
       "    </tr>\n",
       "    <tr>\n",
       "      <th>3</th>\n",
       "      <td>45</td>\n",
       "      <td>weiblich</td>\n",
       "      <td>mittlere Qualifikation</td>\n",
       "      <td>kostenlos</td>\n",
       "      <td>gering</td>\n",
       "      <td>gering</td>\n",
       "      <td>34224</td>\n",
       "      <td>42</td>\n",
       "      <td>Wohnungsreinrichtung</td>\n",
       "    </tr>\n",
       "    <tr>\n",
       "      <th>4</th>\n",
       "      <td>53</td>\n",
       "      <td>weiblich</td>\n",
       "      <td>mittlere Qualifikation</td>\n",
       "      <td>kostenlos</td>\n",
       "      <td>gering</td>\n",
       "      <td>gering</td>\n",
       "      <td>21146</td>\n",
       "      <td>24</td>\n",
       "      <td>Fahrzeug</td>\n",
       "    </tr>\n",
       "    <tr>\n",
       "      <th>...</th>\n",
       "      <td>...</td>\n",
       "      <td>...</td>\n",
       "      <td>...</td>\n",
       "      <td>...</td>\n",
       "      <td>...</td>\n",
       "      <td>...</td>\n",
       "      <td>...</td>\n",
       "      <td>...</td>\n",
       "      <td>...</td>\n",
       "    </tr>\n",
       "    <tr>\n",
       "      <th>992</th>\n",
       "      <td>31</td>\n",
       "      <td>männlich</td>\n",
       "      <td>niedrige Qualifikation - permanent</td>\n",
       "      <td>Eigentum</td>\n",
       "      <td>gering</td>\n",
       "      <td>NaN</td>\n",
       "      <td>7538</td>\n",
       "      <td>12</td>\n",
       "      <td>Wohnungsreinrichtung</td>\n",
       "    </tr>\n",
       "    <tr>\n",
       "      <th>993</th>\n",
       "      <td>40</td>\n",
       "      <td>weiblich</td>\n",
       "      <td>hohe Qualifikation</td>\n",
       "      <td>Eigentum</td>\n",
       "      <td>gering</td>\n",
       "      <td>gering</td>\n",
       "      <td>16748</td>\n",
       "      <td>30</td>\n",
       "      <td>Fahrzeug</td>\n",
       "    </tr>\n",
       "    <tr>\n",
       "      <th>994</th>\n",
       "      <td>38</td>\n",
       "      <td>weiblich</td>\n",
       "      <td>mittlere Qualifikation</td>\n",
       "      <td>Eigentum</td>\n",
       "      <td>gering</td>\n",
       "      <td>NaN</td>\n",
       "      <td>3491</td>\n",
       "      <td>12</td>\n",
       "      <td>Unterhaltungselektronik</td>\n",
       "    </tr>\n",
       "    <tr>\n",
       "      <th>995</th>\n",
       "      <td>23</td>\n",
       "      <td>weiblich</td>\n",
       "      <td>mittlere Qualifikation</td>\n",
       "      <td>kostenlos</td>\n",
       "      <td>gering</td>\n",
       "      <td>gering</td>\n",
       "      <td>8011</td>\n",
       "      <td>45</td>\n",
       "      <td>Unterhaltungselektronik</td>\n",
       "    </tr>\n",
       "    <tr>\n",
       "      <th>996</th>\n",
       "      <td>27</td>\n",
       "      <td>weiblich</td>\n",
       "      <td>mittlere Qualifikation</td>\n",
       "      <td>Eigentum</td>\n",
       "      <td>mittel</td>\n",
       "      <td>mittel</td>\n",
       "      <td>19869</td>\n",
       "      <td>45</td>\n",
       "      <td>Fahrzeug</td>\n",
       "    </tr>\n",
       "  </tbody>\n",
       "</table>\n",
       "<p>997 rows × 9 columns</p>\n",
       "</div>"
      ],
      "text/plain": [
       "     Alter Geschlecht                       Arbeitsstelle Wohnsituation  \\\n",
       "0       67   weiblich              mittlere Qualifikation      Eigentum   \n",
       "1       22   männlich              mittlere Qualifikation      Eigentum   \n",
       "2       49   weiblich  niedrige Qualifikation - permanent      Eigentum   \n",
       "3       45   weiblich              mittlere Qualifikation     kostenlos   \n",
       "4       53   weiblich              mittlere Qualifikation     kostenlos   \n",
       "..     ...        ...                                 ...           ...   \n",
       "992     31   männlich  niedrige Qualifikation - permanent      Eigentum   \n",
       "993     40   weiblich                  hohe Qualifikation      Eigentum   \n",
       "994     38   weiblich              mittlere Qualifikation      Eigentum   \n",
       "995     23   weiblich              mittlere Qualifikation     kostenlos   \n",
       "996     27   weiblich              mittlere Qualifikation      Eigentum   \n",
       "\n",
       "    Sparkonto Lohnkonto  Kreditbetrag  Laufzeit         Verwendungszweck  \n",
       "0         NaN    gering          5076         6  Unterhaltungselektronik  \n",
       "1      gering    mittel         25840        48  Unterhaltungselektronik  \n",
       "2      gering       NaN          9101        12               Ausbildung  \n",
       "3      gering    gering         34224        42     Wohnungsreinrichtung  \n",
       "4      gering    gering         21146        24                 Fahrzeug  \n",
       "..        ...       ...           ...       ...                      ...  \n",
       "992    gering       NaN          7538        12     Wohnungsreinrichtung  \n",
       "993    gering    gering         16748        30                 Fahrzeug  \n",
       "994    gering       NaN          3491        12  Unterhaltungselektronik  \n",
       "995    gering    gering          8011        45  Unterhaltungselektronik  \n",
       "996    mittel    mittel         19869        45                 Fahrzeug  \n",
       "\n",
       "[997 rows x 9 columns]"
      ]
     },
     "execution_count": 21,
     "metadata": {},
     "output_type": "execute_result"
    }
   ],
   "source": [
    "df_X"
   ]
  },
  {
   "cell_type": "code",
   "execution_count": 22,
   "id": "fd811003-850c-42fe-8a3f-98f0a53e2f67",
   "metadata": {},
   "outputs": [],
   "source": [
    "cat_features = ['Geschlecht','Arbeitsstelle','Wohnsituation','Sparkonto','Lohnkonto','Verwendungszweck']\n",
    "num_features = ['Alter', 'Kreditbetrag', 'Laufzeit']"
   ]
  },
  {
   "cell_type": "code",
   "execution_count": 23,
   "id": "bfafff7b-6ed5-4e60-8b85-ee869d101f1f",
   "metadata": {},
   "outputs": [
    {
     "data": {
      "text/html": [
       "<div>\n",
       "<style scoped>\n",
       "    .dataframe tbody tr th:only-of-type {\n",
       "        vertical-align: middle;\n",
       "    }\n",
       "\n",
       "    .dataframe tbody tr th {\n",
       "        vertical-align: top;\n",
       "    }\n",
       "\n",
       "    .dataframe thead th {\n",
       "        text-align: right;\n",
       "    }\n",
       "</style>\n",
       "<table border=\"1\" class=\"dataframe\">\n",
       "  <thead>\n",
       "    <tr style=\"text-align: right;\">\n",
       "      <th></th>\n",
       "      <th>Geschlecht</th>\n",
       "      <th>Arbeitsstelle</th>\n",
       "      <th>Wohnsituation</th>\n",
       "      <th>Sparkonto</th>\n",
       "      <th>Lohnkonto</th>\n",
       "      <th>Verwendungszweck</th>\n",
       "    </tr>\n",
       "  </thead>\n",
       "  <tbody>\n",
       "    <tr>\n",
       "      <th>0</th>\n",
       "      <td>weiblich</td>\n",
       "      <td>mittlere Qualifikation</td>\n",
       "      <td>Eigentum</td>\n",
       "      <td>NaN</td>\n",
       "      <td>gering</td>\n",
       "      <td>Unterhaltungselektronik</td>\n",
       "    </tr>\n",
       "    <tr>\n",
       "      <th>1</th>\n",
       "      <td>männlich</td>\n",
       "      <td>mittlere Qualifikation</td>\n",
       "      <td>Eigentum</td>\n",
       "      <td>gering</td>\n",
       "      <td>mittel</td>\n",
       "      <td>Unterhaltungselektronik</td>\n",
       "    </tr>\n",
       "    <tr>\n",
       "      <th>2</th>\n",
       "      <td>weiblich</td>\n",
       "      <td>niedrige Qualifikation - permanent</td>\n",
       "      <td>Eigentum</td>\n",
       "      <td>gering</td>\n",
       "      <td>NaN</td>\n",
       "      <td>Ausbildung</td>\n",
       "    </tr>\n",
       "    <tr>\n",
       "      <th>3</th>\n",
       "      <td>weiblich</td>\n",
       "      <td>mittlere Qualifikation</td>\n",
       "      <td>kostenlos</td>\n",
       "      <td>gering</td>\n",
       "      <td>gering</td>\n",
       "      <td>Wohnungsreinrichtung</td>\n",
       "    </tr>\n",
       "    <tr>\n",
       "      <th>4</th>\n",
       "      <td>weiblich</td>\n",
       "      <td>mittlere Qualifikation</td>\n",
       "      <td>kostenlos</td>\n",
       "      <td>gering</td>\n",
       "      <td>gering</td>\n",
       "      <td>Fahrzeug</td>\n",
       "    </tr>\n",
       "    <tr>\n",
       "      <th>...</th>\n",
       "      <td>...</td>\n",
       "      <td>...</td>\n",
       "      <td>...</td>\n",
       "      <td>...</td>\n",
       "      <td>...</td>\n",
       "      <td>...</td>\n",
       "    </tr>\n",
       "    <tr>\n",
       "      <th>992</th>\n",
       "      <td>männlich</td>\n",
       "      <td>niedrige Qualifikation - permanent</td>\n",
       "      <td>Eigentum</td>\n",
       "      <td>gering</td>\n",
       "      <td>NaN</td>\n",
       "      <td>Wohnungsreinrichtung</td>\n",
       "    </tr>\n",
       "    <tr>\n",
       "      <th>993</th>\n",
       "      <td>weiblich</td>\n",
       "      <td>hohe Qualifikation</td>\n",
       "      <td>Eigentum</td>\n",
       "      <td>gering</td>\n",
       "      <td>gering</td>\n",
       "      <td>Fahrzeug</td>\n",
       "    </tr>\n",
       "    <tr>\n",
       "      <th>994</th>\n",
       "      <td>weiblich</td>\n",
       "      <td>mittlere Qualifikation</td>\n",
       "      <td>Eigentum</td>\n",
       "      <td>gering</td>\n",
       "      <td>NaN</td>\n",
       "      <td>Unterhaltungselektronik</td>\n",
       "    </tr>\n",
       "    <tr>\n",
       "      <th>995</th>\n",
       "      <td>weiblich</td>\n",
       "      <td>mittlere Qualifikation</td>\n",
       "      <td>kostenlos</td>\n",
       "      <td>gering</td>\n",
       "      <td>gering</td>\n",
       "      <td>Unterhaltungselektronik</td>\n",
       "    </tr>\n",
       "    <tr>\n",
       "      <th>996</th>\n",
       "      <td>weiblich</td>\n",
       "      <td>mittlere Qualifikation</td>\n",
       "      <td>Eigentum</td>\n",
       "      <td>mittel</td>\n",
       "      <td>mittel</td>\n",
       "      <td>Fahrzeug</td>\n",
       "    </tr>\n",
       "  </tbody>\n",
       "</table>\n",
       "<p>997 rows × 6 columns</p>\n",
       "</div>"
      ],
      "text/plain": [
       "    Geschlecht                       Arbeitsstelle Wohnsituation Sparkonto  \\\n",
       "0     weiblich              mittlere Qualifikation      Eigentum       NaN   \n",
       "1     männlich              mittlere Qualifikation      Eigentum    gering   \n",
       "2     weiblich  niedrige Qualifikation - permanent      Eigentum    gering   \n",
       "3     weiblich              mittlere Qualifikation     kostenlos    gering   \n",
       "4     weiblich              mittlere Qualifikation     kostenlos    gering   \n",
       "..         ...                                 ...           ...       ...   \n",
       "992   männlich  niedrige Qualifikation - permanent      Eigentum    gering   \n",
       "993   weiblich                  hohe Qualifikation      Eigentum    gering   \n",
       "994   weiblich              mittlere Qualifikation      Eigentum    gering   \n",
       "995   weiblich              mittlere Qualifikation     kostenlos    gering   \n",
       "996   weiblich              mittlere Qualifikation      Eigentum    mittel   \n",
       "\n",
       "    Lohnkonto         Verwendungszweck  \n",
       "0      gering  Unterhaltungselektronik  \n",
       "1      mittel  Unterhaltungselektronik  \n",
       "2         NaN               Ausbildung  \n",
       "3      gering     Wohnungsreinrichtung  \n",
       "4      gering                 Fahrzeug  \n",
       "..        ...                      ...  \n",
       "992       NaN     Wohnungsreinrichtung  \n",
       "993    gering                 Fahrzeug  \n",
       "994       NaN  Unterhaltungselektronik  \n",
       "995    gering  Unterhaltungselektronik  \n",
       "996    mittel                 Fahrzeug  \n",
       "\n",
       "[997 rows x 6 columns]"
      ]
     },
     "execution_count": 23,
     "metadata": {},
     "output_type": "execute_result"
    }
   ],
   "source": [
    "df_X[cat_features]"
   ]
  },
  {
   "cell_type": "code",
   "execution_count": 46,
   "id": "dd4e5d65-ff39-4ea6-a496-532dd494ab47",
   "metadata": {},
   "outputs": [],
   "source": [
    "set_config(display=\"diagram\")"
   ]
  },
  {
   "cell_type": "code",
   "execution_count": 27,
   "id": "dfbb58bf-9c20-42e4-bc7c-420913bd6ac3",
   "metadata": {},
   "outputs": [],
   "source": [
    "cat_transformer = Pipeline(\n",
    "    steps=[\n",
    "        ('onehot', OneHotEncoder(handle_unknown='ignore',dtype='int')),\n",
    "        ('imputer', SimpleImputer(strategy=\"constant\", fill_value=-1))]\n",
    ")"
   ]
  },
  {
   "cell_type": "code",
   "execution_count": 28,
   "id": "06bf2277-844c-49af-af5d-f7aee5bc3083",
   "metadata": {},
   "outputs": [],
   "source": [
    "preprocessor = ColumnTransformer(transformers=[('cat', cat_transformer, cat_features)], remainder='passthrough', verbose_feature_names_out=False)"
   ]
  },
  {
   "cell_type": "code",
   "execution_count": 47,
   "id": "94d607a1-cfaa-46cc-b9ed-a9bc1d12bfb7",
   "metadata": {},
   "outputs": [
    {
     "data": {
      "text/html": [
       "<style>#sk-98cf8a00-eefd-4c45-a1a9-0927bc72f09b {color: black;background-color: white;}#sk-98cf8a00-eefd-4c45-a1a9-0927bc72f09b pre{padding: 0;}#sk-98cf8a00-eefd-4c45-a1a9-0927bc72f09b div.sk-toggleable {background-color: white;}#sk-98cf8a00-eefd-4c45-a1a9-0927bc72f09b label.sk-toggleable__label {cursor: pointer;display: block;width: 100%;margin-bottom: 0;padding: 0.3em;box-sizing: border-box;text-align: center;}#sk-98cf8a00-eefd-4c45-a1a9-0927bc72f09b label.sk-toggleable__label-arrow:before {content: \"▸\";float: left;margin-right: 0.25em;color: #696969;}#sk-98cf8a00-eefd-4c45-a1a9-0927bc72f09b label.sk-toggleable__label-arrow:hover:before {color: black;}#sk-98cf8a00-eefd-4c45-a1a9-0927bc72f09b div.sk-estimator:hover label.sk-toggleable__label-arrow:before {color: black;}#sk-98cf8a00-eefd-4c45-a1a9-0927bc72f09b div.sk-toggleable__content {max-height: 0;max-width: 0;overflow: hidden;text-align: left;background-color: #f0f8ff;}#sk-98cf8a00-eefd-4c45-a1a9-0927bc72f09b div.sk-toggleable__content pre {margin: 0.2em;color: black;border-radius: 0.25em;background-color: #f0f8ff;}#sk-98cf8a00-eefd-4c45-a1a9-0927bc72f09b input.sk-toggleable__control:checked~div.sk-toggleable__content {max-height: 200px;max-width: 100%;overflow: auto;}#sk-98cf8a00-eefd-4c45-a1a9-0927bc72f09b input.sk-toggleable__control:checked~label.sk-toggleable__label-arrow:before {content: \"▾\";}#sk-98cf8a00-eefd-4c45-a1a9-0927bc72f09b div.sk-estimator input.sk-toggleable__control:checked~label.sk-toggleable__label {background-color: #d4ebff;}#sk-98cf8a00-eefd-4c45-a1a9-0927bc72f09b div.sk-label input.sk-toggleable__control:checked~label.sk-toggleable__label {background-color: #d4ebff;}#sk-98cf8a00-eefd-4c45-a1a9-0927bc72f09b input.sk-hidden--visually {border: 0;clip: rect(1px 1px 1px 1px);clip: rect(1px, 1px, 1px, 1px);height: 1px;margin: -1px;overflow: hidden;padding: 0;position: absolute;width: 1px;}#sk-98cf8a00-eefd-4c45-a1a9-0927bc72f09b div.sk-estimator {font-family: monospace;background-color: #f0f8ff;border: 1px dotted black;border-radius: 0.25em;box-sizing: border-box;margin-bottom: 0.5em;}#sk-98cf8a00-eefd-4c45-a1a9-0927bc72f09b div.sk-estimator:hover {background-color: #d4ebff;}#sk-98cf8a00-eefd-4c45-a1a9-0927bc72f09b div.sk-parallel-item::after {content: \"\";width: 100%;border-bottom: 1px solid gray;flex-grow: 1;}#sk-98cf8a00-eefd-4c45-a1a9-0927bc72f09b div.sk-label:hover label.sk-toggleable__label {background-color: #d4ebff;}#sk-98cf8a00-eefd-4c45-a1a9-0927bc72f09b div.sk-serial::before {content: \"\";position: absolute;border-left: 1px solid gray;box-sizing: border-box;top: 2em;bottom: 0;left: 50%;}#sk-98cf8a00-eefd-4c45-a1a9-0927bc72f09b div.sk-serial {display: flex;flex-direction: column;align-items: center;background-color: white;padding-right: 0.2em;padding-left: 0.2em;}#sk-98cf8a00-eefd-4c45-a1a9-0927bc72f09b div.sk-item {z-index: 1;}#sk-98cf8a00-eefd-4c45-a1a9-0927bc72f09b div.sk-parallel {display: flex;align-items: stretch;justify-content: center;background-color: white;}#sk-98cf8a00-eefd-4c45-a1a9-0927bc72f09b div.sk-parallel::before {content: \"\";position: absolute;border-left: 1px solid gray;box-sizing: border-box;top: 2em;bottom: 0;left: 50%;}#sk-98cf8a00-eefd-4c45-a1a9-0927bc72f09b div.sk-parallel-item {display: flex;flex-direction: column;position: relative;background-color: white;}#sk-98cf8a00-eefd-4c45-a1a9-0927bc72f09b div.sk-parallel-item:first-child::after {align-self: flex-end;width: 50%;}#sk-98cf8a00-eefd-4c45-a1a9-0927bc72f09b div.sk-parallel-item:last-child::after {align-self: flex-start;width: 50%;}#sk-98cf8a00-eefd-4c45-a1a9-0927bc72f09b div.sk-parallel-item:only-child::after {width: 0;}#sk-98cf8a00-eefd-4c45-a1a9-0927bc72f09b div.sk-dashed-wrapped {border: 1px dashed gray;margin: 0 0.4em 0.5em 0.4em;box-sizing: border-box;padding-bottom: 0.4em;background-color: white;position: relative;}#sk-98cf8a00-eefd-4c45-a1a9-0927bc72f09b div.sk-label label {font-family: monospace;font-weight: bold;background-color: white;display: inline-block;line-height: 1.2em;}#sk-98cf8a00-eefd-4c45-a1a9-0927bc72f09b div.sk-label-container {position: relative;z-index: 2;text-align: center;}#sk-98cf8a00-eefd-4c45-a1a9-0927bc72f09b div.sk-container {/* jupyter's `normalize.less` sets `[hidden] { display: none; }` but bootstrap.min.css set `[hidden] { display: none !important; }` so we also need the `!important` here to be able to override the default hidden behavior on the sphinx rendered scikit-learn.org. See: https://github.com/scikit-learn/scikit-learn/issues/21755 */display: inline-block !important;position: relative;}#sk-98cf8a00-eefd-4c45-a1a9-0927bc72f09b div.sk-text-repr-fallback {display: none;}</style><div id=\"sk-98cf8a00-eefd-4c45-a1a9-0927bc72f09b\" class=\"sk-top-container\"><div class=\"sk-text-repr-fallback\"><pre>ColumnTransformer(remainder=&#x27;passthrough&#x27;,\n",
       "                  transformers=[(&#x27;cat&#x27;,\n",
       "                                 Pipeline(steps=[(&#x27;onehot&#x27;,\n",
       "                                                  OneHotEncoder(dtype=&#x27;int&#x27;,\n",
       "                                                                handle_unknown=&#x27;ignore&#x27;)),\n",
       "                                                 (&#x27;imputer&#x27;,\n",
       "                                                  SimpleImputer(fill_value=-1,\n",
       "                                                                strategy=&#x27;constant&#x27;))]),\n",
       "                                 [&#x27;Geschlecht&#x27;, &#x27;Arbeitsstelle&#x27;,\n",
       "                                  &#x27;Wohnsituation&#x27;, &#x27;Sparkonto&#x27;, &#x27;Lohnkonto&#x27;,\n",
       "                                  &#x27;Verwendungszweck&#x27;])],\n",
       "                  verbose_feature_names_out=False)</pre><b>Please rerun this cell to show the HTML repr or trust the notebook.</b></div><div class=\"sk-container\" hidden><div class=\"sk-item sk-dashed-wrapped\"><div class=\"sk-label-container\"><div class=\"sk-label sk-toggleable\"><input class=\"sk-toggleable__control sk-hidden--visually\" id=\"5befd49b-1826-4e54-afac-47e8a9d3ecfc\" type=\"checkbox\" ><label for=\"5befd49b-1826-4e54-afac-47e8a9d3ecfc\" class=\"sk-toggleable__label sk-toggleable__label-arrow\">ColumnTransformer</label><div class=\"sk-toggleable__content\"><pre>ColumnTransformer(remainder=&#x27;passthrough&#x27;,\n",
       "                  transformers=[(&#x27;cat&#x27;,\n",
       "                                 Pipeline(steps=[(&#x27;onehot&#x27;,\n",
       "                                                  OneHotEncoder(dtype=&#x27;int&#x27;,\n",
       "                                                                handle_unknown=&#x27;ignore&#x27;)),\n",
       "                                                 (&#x27;imputer&#x27;,\n",
       "                                                  SimpleImputer(fill_value=-1,\n",
       "                                                                strategy=&#x27;constant&#x27;))]),\n",
       "                                 [&#x27;Geschlecht&#x27;, &#x27;Arbeitsstelle&#x27;,\n",
       "                                  &#x27;Wohnsituation&#x27;, &#x27;Sparkonto&#x27;, &#x27;Lohnkonto&#x27;,\n",
       "                                  &#x27;Verwendungszweck&#x27;])],\n",
       "                  verbose_feature_names_out=False)</pre></div></div></div><div class=\"sk-parallel\"><div class=\"sk-parallel-item\"><div class=\"sk-item\"><div class=\"sk-label-container\"><div class=\"sk-label sk-toggleable\"><input class=\"sk-toggleable__control sk-hidden--visually\" id=\"f53859c7-4188-4044-870e-57c50fea5836\" type=\"checkbox\" ><label for=\"f53859c7-4188-4044-870e-57c50fea5836\" class=\"sk-toggleable__label sk-toggleable__label-arrow\">cat</label><div class=\"sk-toggleable__content\"><pre>[&#x27;Geschlecht&#x27;, &#x27;Arbeitsstelle&#x27;, &#x27;Wohnsituation&#x27;, &#x27;Sparkonto&#x27;, &#x27;Lohnkonto&#x27;, &#x27;Verwendungszweck&#x27;]</pre></div></div></div><div class=\"sk-serial\"><div class=\"sk-item\"><div class=\"sk-serial\"><div class=\"sk-item\"><div class=\"sk-estimator sk-toggleable\"><input class=\"sk-toggleable__control sk-hidden--visually\" id=\"abb275f4-b6a4-4851-8542-7a30f9579cea\" type=\"checkbox\" ><label for=\"abb275f4-b6a4-4851-8542-7a30f9579cea\" class=\"sk-toggleable__label sk-toggleable__label-arrow\">OneHotEncoder</label><div class=\"sk-toggleable__content\"><pre>OneHotEncoder(dtype=&#x27;int&#x27;, handle_unknown=&#x27;ignore&#x27;)</pre></div></div></div><div class=\"sk-item\"><div class=\"sk-estimator sk-toggleable\"><input class=\"sk-toggleable__control sk-hidden--visually\" id=\"9d978cee-f6e3-4849-abe4-4e7db27fc7de\" type=\"checkbox\" ><label for=\"9d978cee-f6e3-4849-abe4-4e7db27fc7de\" class=\"sk-toggleable__label sk-toggleable__label-arrow\">SimpleImputer</label><div class=\"sk-toggleable__content\"><pre>SimpleImputer(fill_value=-1, strategy=&#x27;constant&#x27;)</pre></div></div></div></div></div></div></div></div><div class=\"sk-parallel-item\"><div class=\"sk-item\"><div class=\"sk-label-container\"><div class=\"sk-label sk-toggleable\"><input class=\"sk-toggleable__control sk-hidden--visually\" id=\"35cec6cc-14d6-46be-9893-f39f93586f5a\" type=\"checkbox\" ><label for=\"35cec6cc-14d6-46be-9893-f39f93586f5a\" class=\"sk-toggleable__label sk-toggleable__label-arrow\">remainder</label><div class=\"sk-toggleable__content\"><pre>[&#x27;Alter&#x27;, &#x27;Kreditbetrag&#x27;, &#x27;Laufzeit&#x27;]</pre></div></div></div><div class=\"sk-serial\"><div class=\"sk-item\"><div class=\"sk-estimator sk-toggleable\"><input class=\"sk-toggleable__control sk-hidden--visually\" id=\"8621d3c4-e336-44f7-bbcf-d29039413a67\" type=\"checkbox\" ><label for=\"8621d3c4-e336-44f7-bbcf-d29039413a67\" class=\"sk-toggleable__label sk-toggleable__label-arrow\">passthrough</label><div class=\"sk-toggleable__content\"><pre>passthrough</pre></div></div></div></div></div></div></div></div></div></div>"
      ],
      "text/plain": [
       "ColumnTransformer(remainder='passthrough',\n",
       "                  transformers=[('cat',\n",
       "                                 Pipeline(steps=[('onehot',\n",
       "                                                  OneHotEncoder(dtype='int',\n",
       "                                                                handle_unknown='ignore')),\n",
       "                                                 ('imputer',\n",
       "                                                  SimpleImputer(fill_value=-1,\n",
       "                                                                strategy='constant'))]),\n",
       "                                 ['Geschlecht', 'Arbeitsstelle',\n",
       "                                  'Wohnsituation', 'Sparkonto', 'Lohnkonto',\n",
       "                                  'Verwendungszweck'])],\n",
       "                  verbose_feature_names_out=False)"
      ]
     },
     "execution_count": 47,
     "metadata": {},
     "output_type": "execute_result"
    }
   ],
   "source": [
    "preprocessor"
   ]
  },
  {
   "cell_type": "code",
   "execution_count": 29,
   "id": "cd6b1319-2cce-4b46-a3df-6f6703e6449c",
   "metadata": {},
   "outputs": [],
   "source": [
    "clf = Pipeline(\n",
    "    steps=[(\"preprocessor\", preprocessor),\n",
    "           (\"classifier\", LogisticRegression(max_iter=10000))\n",
    "          ]\n",
    ")"
   ]
  },
  {
   "cell_type": "code",
   "execution_count": 41,
   "id": "b13cd787-e4a5-4362-a12b-b7dd70c292c6",
   "metadata": {},
   "outputs": [
    {
     "data": {
      "text/html": [
       "<style>#sk-0da7b1b6-cef4-460a-ac26-780528d82311 {color: black;background-color: white;}#sk-0da7b1b6-cef4-460a-ac26-780528d82311 pre{padding: 0;}#sk-0da7b1b6-cef4-460a-ac26-780528d82311 div.sk-toggleable {background-color: white;}#sk-0da7b1b6-cef4-460a-ac26-780528d82311 label.sk-toggleable__label {cursor: pointer;display: block;width: 100%;margin-bottom: 0;padding: 0.3em;box-sizing: border-box;text-align: center;}#sk-0da7b1b6-cef4-460a-ac26-780528d82311 label.sk-toggleable__label-arrow:before {content: \"▸\";float: left;margin-right: 0.25em;color: #696969;}#sk-0da7b1b6-cef4-460a-ac26-780528d82311 label.sk-toggleable__label-arrow:hover:before {color: black;}#sk-0da7b1b6-cef4-460a-ac26-780528d82311 div.sk-estimator:hover label.sk-toggleable__label-arrow:before {color: black;}#sk-0da7b1b6-cef4-460a-ac26-780528d82311 div.sk-toggleable__content {max-height: 0;max-width: 0;overflow: hidden;text-align: left;background-color: #f0f8ff;}#sk-0da7b1b6-cef4-460a-ac26-780528d82311 div.sk-toggleable__content pre {margin: 0.2em;color: black;border-radius: 0.25em;background-color: #f0f8ff;}#sk-0da7b1b6-cef4-460a-ac26-780528d82311 input.sk-toggleable__control:checked~div.sk-toggleable__content {max-height: 200px;max-width: 100%;overflow: auto;}#sk-0da7b1b6-cef4-460a-ac26-780528d82311 input.sk-toggleable__control:checked~label.sk-toggleable__label-arrow:before {content: \"▾\";}#sk-0da7b1b6-cef4-460a-ac26-780528d82311 div.sk-estimator input.sk-toggleable__control:checked~label.sk-toggleable__label {background-color: #d4ebff;}#sk-0da7b1b6-cef4-460a-ac26-780528d82311 div.sk-label input.sk-toggleable__control:checked~label.sk-toggleable__label {background-color: #d4ebff;}#sk-0da7b1b6-cef4-460a-ac26-780528d82311 input.sk-hidden--visually {border: 0;clip: rect(1px 1px 1px 1px);clip: rect(1px, 1px, 1px, 1px);height: 1px;margin: -1px;overflow: hidden;padding: 0;position: absolute;width: 1px;}#sk-0da7b1b6-cef4-460a-ac26-780528d82311 div.sk-estimator {font-family: monospace;background-color: #f0f8ff;border: 1px dotted black;border-radius: 0.25em;box-sizing: border-box;margin-bottom: 0.5em;}#sk-0da7b1b6-cef4-460a-ac26-780528d82311 div.sk-estimator:hover {background-color: #d4ebff;}#sk-0da7b1b6-cef4-460a-ac26-780528d82311 div.sk-parallel-item::after {content: \"\";width: 100%;border-bottom: 1px solid gray;flex-grow: 1;}#sk-0da7b1b6-cef4-460a-ac26-780528d82311 div.sk-label:hover label.sk-toggleable__label {background-color: #d4ebff;}#sk-0da7b1b6-cef4-460a-ac26-780528d82311 div.sk-serial::before {content: \"\";position: absolute;border-left: 1px solid gray;box-sizing: border-box;top: 2em;bottom: 0;left: 50%;}#sk-0da7b1b6-cef4-460a-ac26-780528d82311 div.sk-serial {display: flex;flex-direction: column;align-items: center;background-color: white;padding-right: 0.2em;padding-left: 0.2em;}#sk-0da7b1b6-cef4-460a-ac26-780528d82311 div.sk-item {z-index: 1;}#sk-0da7b1b6-cef4-460a-ac26-780528d82311 div.sk-parallel {display: flex;align-items: stretch;justify-content: center;background-color: white;}#sk-0da7b1b6-cef4-460a-ac26-780528d82311 div.sk-parallel::before {content: \"\";position: absolute;border-left: 1px solid gray;box-sizing: border-box;top: 2em;bottom: 0;left: 50%;}#sk-0da7b1b6-cef4-460a-ac26-780528d82311 div.sk-parallel-item {display: flex;flex-direction: column;position: relative;background-color: white;}#sk-0da7b1b6-cef4-460a-ac26-780528d82311 div.sk-parallel-item:first-child::after {align-self: flex-end;width: 50%;}#sk-0da7b1b6-cef4-460a-ac26-780528d82311 div.sk-parallel-item:last-child::after {align-self: flex-start;width: 50%;}#sk-0da7b1b6-cef4-460a-ac26-780528d82311 div.sk-parallel-item:only-child::after {width: 0;}#sk-0da7b1b6-cef4-460a-ac26-780528d82311 div.sk-dashed-wrapped {border: 1px dashed gray;margin: 0 0.4em 0.5em 0.4em;box-sizing: border-box;padding-bottom: 0.4em;background-color: white;position: relative;}#sk-0da7b1b6-cef4-460a-ac26-780528d82311 div.sk-label label {font-family: monospace;font-weight: bold;background-color: white;display: inline-block;line-height: 1.2em;}#sk-0da7b1b6-cef4-460a-ac26-780528d82311 div.sk-label-container {position: relative;z-index: 2;text-align: center;}#sk-0da7b1b6-cef4-460a-ac26-780528d82311 div.sk-container {/* jupyter's `normalize.less` sets `[hidden] { display: none; }` but bootstrap.min.css set `[hidden] { display: none !important; }` so we also need the `!important` here to be able to override the default hidden behavior on the sphinx rendered scikit-learn.org. See: https://github.com/scikit-learn/scikit-learn/issues/21755 */display: inline-block !important;position: relative;}#sk-0da7b1b6-cef4-460a-ac26-780528d82311 div.sk-text-repr-fallback {display: none;}</style><div id=\"sk-0da7b1b6-cef4-460a-ac26-780528d82311\" class=\"sk-top-container\"><div class=\"sk-text-repr-fallback\"><pre>Pipeline(steps=[(&#x27;preprocessor&#x27;,\n",
       "                 ColumnTransformer(remainder=&#x27;passthrough&#x27;,\n",
       "                                   transformers=[(&#x27;cat&#x27;,\n",
       "                                                  Pipeline(steps=[(&#x27;onehot&#x27;,\n",
       "                                                                   OneHotEncoder(dtype=&#x27;int&#x27;,\n",
       "                                                                                 handle_unknown=&#x27;ignore&#x27;)),\n",
       "                                                                  (&#x27;imputer&#x27;,\n",
       "                                                                   SimpleImputer(fill_value=-1,\n",
       "                                                                                 strategy=&#x27;constant&#x27;))]),\n",
       "                                                  [&#x27;Geschlecht&#x27;,\n",
       "                                                   &#x27;Arbeitsstelle&#x27;,\n",
       "                                                   &#x27;Wohnsituation&#x27;, &#x27;Sparkonto&#x27;,\n",
       "                                                   &#x27;Lohnkonto&#x27;,\n",
       "                                                   &#x27;Verwendungszweck&#x27;])],\n",
       "                                   verbose_feature_names_out=False)),\n",
       "                (&#x27;classifier&#x27;, LogisticRegression(max_iter=10000))])</pre><b>Please rerun this cell to show the HTML repr or trust the notebook.</b></div><div class=\"sk-container\" hidden><div class=\"sk-item sk-dashed-wrapped\"><div class=\"sk-label-container\"><div class=\"sk-label sk-toggleable\"><input class=\"sk-toggleable__control sk-hidden--visually\" id=\"2eb49693-c293-4490-8148-d5996c813eb5\" type=\"checkbox\" ><label for=\"2eb49693-c293-4490-8148-d5996c813eb5\" class=\"sk-toggleable__label sk-toggleable__label-arrow\">Pipeline</label><div class=\"sk-toggleable__content\"><pre>Pipeline(steps=[(&#x27;preprocessor&#x27;,\n",
       "                 ColumnTransformer(remainder=&#x27;passthrough&#x27;,\n",
       "                                   transformers=[(&#x27;cat&#x27;,\n",
       "                                                  Pipeline(steps=[(&#x27;onehot&#x27;,\n",
       "                                                                   OneHotEncoder(dtype=&#x27;int&#x27;,\n",
       "                                                                                 handle_unknown=&#x27;ignore&#x27;)),\n",
       "                                                                  (&#x27;imputer&#x27;,\n",
       "                                                                   SimpleImputer(fill_value=-1,\n",
       "                                                                                 strategy=&#x27;constant&#x27;))]),\n",
       "                                                  [&#x27;Geschlecht&#x27;,\n",
       "                                                   &#x27;Arbeitsstelle&#x27;,\n",
       "                                                   &#x27;Wohnsituation&#x27;, &#x27;Sparkonto&#x27;,\n",
       "                                                   &#x27;Lohnkonto&#x27;,\n",
       "                                                   &#x27;Verwendungszweck&#x27;])],\n",
       "                                   verbose_feature_names_out=False)),\n",
       "                (&#x27;classifier&#x27;, LogisticRegression(max_iter=10000))])</pre></div></div></div><div class=\"sk-serial\"><div class=\"sk-item sk-dashed-wrapped\"><div class=\"sk-label-container\"><div class=\"sk-label sk-toggleable\"><input class=\"sk-toggleable__control sk-hidden--visually\" id=\"f7aac8d5-78f3-4810-b779-3c5a99aabab3\" type=\"checkbox\" ><label for=\"f7aac8d5-78f3-4810-b779-3c5a99aabab3\" class=\"sk-toggleable__label sk-toggleable__label-arrow\">preprocessor: ColumnTransformer</label><div class=\"sk-toggleable__content\"><pre>ColumnTransformer(remainder=&#x27;passthrough&#x27;,\n",
       "                  transformers=[(&#x27;cat&#x27;,\n",
       "                                 Pipeline(steps=[(&#x27;onehot&#x27;,\n",
       "                                                  OneHotEncoder(dtype=&#x27;int&#x27;,\n",
       "                                                                handle_unknown=&#x27;ignore&#x27;)),\n",
       "                                                 (&#x27;imputer&#x27;,\n",
       "                                                  SimpleImputer(fill_value=-1,\n",
       "                                                                strategy=&#x27;constant&#x27;))]),\n",
       "                                 [&#x27;Geschlecht&#x27;, &#x27;Arbeitsstelle&#x27;,\n",
       "                                  &#x27;Wohnsituation&#x27;, &#x27;Sparkonto&#x27;, &#x27;Lohnkonto&#x27;,\n",
       "                                  &#x27;Verwendungszweck&#x27;])],\n",
       "                  verbose_feature_names_out=False)</pre></div></div></div><div class=\"sk-parallel\"><div class=\"sk-parallel-item\"><div class=\"sk-item\"><div class=\"sk-label-container\"><div class=\"sk-label sk-toggleable\"><input class=\"sk-toggleable__control sk-hidden--visually\" id=\"d092614f-aecd-49f0-89b6-906e4f310a42\" type=\"checkbox\" ><label for=\"d092614f-aecd-49f0-89b6-906e4f310a42\" class=\"sk-toggleable__label sk-toggleable__label-arrow\">cat</label><div class=\"sk-toggleable__content\"><pre>[&#x27;Geschlecht&#x27;, &#x27;Arbeitsstelle&#x27;, &#x27;Wohnsituation&#x27;, &#x27;Sparkonto&#x27;, &#x27;Lohnkonto&#x27;, &#x27;Verwendungszweck&#x27;]</pre></div></div></div><div class=\"sk-serial\"><div class=\"sk-item\"><div class=\"sk-serial\"><div class=\"sk-item\"><div class=\"sk-estimator sk-toggleable\"><input class=\"sk-toggleable__control sk-hidden--visually\" id=\"c8ca70c3-3a70-45c8-aee8-71318b8c6de3\" type=\"checkbox\" ><label for=\"c8ca70c3-3a70-45c8-aee8-71318b8c6de3\" class=\"sk-toggleable__label sk-toggleable__label-arrow\">OneHotEncoder</label><div class=\"sk-toggleable__content\"><pre>OneHotEncoder(dtype=&#x27;int&#x27;, handle_unknown=&#x27;ignore&#x27;)</pre></div></div></div><div class=\"sk-item\"><div class=\"sk-estimator sk-toggleable\"><input class=\"sk-toggleable__control sk-hidden--visually\" id=\"7b18b744-f5d5-48a8-9cb1-21ac52a64db0\" type=\"checkbox\" ><label for=\"7b18b744-f5d5-48a8-9cb1-21ac52a64db0\" class=\"sk-toggleable__label sk-toggleable__label-arrow\">SimpleImputer</label><div class=\"sk-toggleable__content\"><pre>SimpleImputer(fill_value=-1, strategy=&#x27;constant&#x27;)</pre></div></div></div></div></div></div></div></div><div class=\"sk-parallel-item\"><div class=\"sk-item\"><div class=\"sk-label-container\"><div class=\"sk-label sk-toggleable\"><input class=\"sk-toggleable__control sk-hidden--visually\" id=\"d007b4c8-68e4-4cfb-b49b-435dcb282b8a\" type=\"checkbox\" ><label for=\"d007b4c8-68e4-4cfb-b49b-435dcb282b8a\" class=\"sk-toggleable__label sk-toggleable__label-arrow\">remainder</label><div class=\"sk-toggleable__content\"><pre>[&#x27;Alter&#x27;, &#x27;Kreditbetrag&#x27;, &#x27;Laufzeit&#x27;]</pre></div></div></div><div class=\"sk-serial\"><div class=\"sk-item\"><div class=\"sk-estimator sk-toggleable\"><input class=\"sk-toggleable__control sk-hidden--visually\" id=\"8052c1f2-b784-4ce9-bcdd-7d98aefd92bf\" type=\"checkbox\" ><label for=\"8052c1f2-b784-4ce9-bcdd-7d98aefd92bf\" class=\"sk-toggleable__label sk-toggleable__label-arrow\">passthrough</label><div class=\"sk-toggleable__content\"><pre>passthrough</pre></div></div></div></div></div></div></div></div><div class=\"sk-item\"><div class=\"sk-estimator sk-toggleable\"><input class=\"sk-toggleable__control sk-hidden--visually\" id=\"202504dd-7e8e-4097-8a84-250dee345074\" type=\"checkbox\" ><label for=\"202504dd-7e8e-4097-8a84-250dee345074\" class=\"sk-toggleable__label sk-toggleable__label-arrow\">LogisticRegression</label><div class=\"sk-toggleable__content\"><pre>LogisticRegression(max_iter=10000)</pre></div></div></div></div></div></div></div>"
      ],
      "text/plain": [
       "Pipeline(steps=[('preprocessor',\n",
       "                 ColumnTransformer(remainder='passthrough',\n",
       "                                   transformers=[('cat',\n",
       "                                                  Pipeline(steps=[('onehot',\n",
       "                                                                   OneHotEncoder(dtype='int',\n",
       "                                                                                 handle_unknown='ignore')),\n",
       "                                                                  ('imputer',\n",
       "                                                                   SimpleImputer(fill_value=-1,\n",
       "                                                                                 strategy='constant'))]),\n",
       "                                                  ['Geschlecht',\n",
       "                                                   'Arbeitsstelle',\n",
       "                                                   'Wohnsituation', 'Sparkonto',\n",
       "                                                   'Lohnkonto',\n",
       "                                                   'Verwendungszweck'])],\n",
       "                                   verbose_feature_names_out=False)),\n",
       "                ('classifier', LogisticRegression(max_iter=10000))])"
      ]
     },
     "execution_count": 41,
     "metadata": {},
     "output_type": "execute_result"
    }
   ],
   "source": [
    "clf"
   ]
  },
  {
   "cell_type": "code",
   "execution_count": 30,
   "id": "b53087b5-e15d-44d4-8774-90fc9ebcb64a",
   "metadata": {},
   "outputs": [],
   "source": [
    "X_train, X_test, y_train, y_test = train_test_split(df_X, y, test_size=0.2, random_state=42)"
   ]
  },
  {
   "cell_type": "code",
   "execution_count": 31,
   "id": "7850adc5-37ba-42fc-b84e-94aae34562a6",
   "metadata": {},
   "outputs": [
    {
     "name": "stdout",
     "output_type": "stream",
     "text": [
      "model score: 0.730\n"
     ]
    }
   ],
   "source": [
    "clf.fit(X_train, y_train)\n",
    "print(\"model score: %.3f\" % clf.score(X_test, y_test))"
   ]
  },
  {
   "cell_type": "code",
   "execution_count": 44,
   "id": "ec820cec-e3e9-4f9d-b3e7-ce17d3d80b3a",
   "metadata": {},
   "outputs": [
    {
     "data": {
      "text/plain": [
       "array([[    0,     1,     0, ...,    67,  5076,     6],\n",
       "       [    1,     0,     0, ...,    22, 25840,    48],\n",
       "       [    0,     1,     0, ...,    49,  9101,    12],\n",
       "       ...,\n",
       "       [    0,     1,     0, ...,    38,  3491,    12],\n",
       "       [    0,     1,     0, ...,    23,  8011,    45],\n",
       "       [    0,     1,     0, ...,    27, 19869,    45]], dtype=int64)"
      ]
     },
     "execution_count": 44,
     "metadata": {},
     "output_type": "execute_result"
    }
   ],
   "source": [
    "clf.named_steps['preprocessor'].transform(df_X)"
   ]
  },
  {
   "cell_type": "code",
   "execution_count": 45,
   "id": "3835929e-3361-470b-a7ec-46fa711ff308",
   "metadata": {},
   "outputs": [
    {
     "data": {
      "text/html": [
       "<style>#sk-4e0efdab-d62e-4b43-9f40-0b03a51d6e31 {color: black;background-color: white;}#sk-4e0efdab-d62e-4b43-9f40-0b03a51d6e31 pre{padding: 0;}#sk-4e0efdab-d62e-4b43-9f40-0b03a51d6e31 div.sk-toggleable {background-color: white;}#sk-4e0efdab-d62e-4b43-9f40-0b03a51d6e31 label.sk-toggleable__label {cursor: pointer;display: block;width: 100%;margin-bottom: 0;padding: 0.3em;box-sizing: border-box;text-align: center;}#sk-4e0efdab-d62e-4b43-9f40-0b03a51d6e31 label.sk-toggleable__label-arrow:before {content: \"▸\";float: left;margin-right: 0.25em;color: #696969;}#sk-4e0efdab-d62e-4b43-9f40-0b03a51d6e31 label.sk-toggleable__label-arrow:hover:before {color: black;}#sk-4e0efdab-d62e-4b43-9f40-0b03a51d6e31 div.sk-estimator:hover label.sk-toggleable__label-arrow:before {color: black;}#sk-4e0efdab-d62e-4b43-9f40-0b03a51d6e31 div.sk-toggleable__content {max-height: 0;max-width: 0;overflow: hidden;text-align: left;background-color: #f0f8ff;}#sk-4e0efdab-d62e-4b43-9f40-0b03a51d6e31 div.sk-toggleable__content pre {margin: 0.2em;color: black;border-radius: 0.25em;background-color: #f0f8ff;}#sk-4e0efdab-d62e-4b43-9f40-0b03a51d6e31 input.sk-toggleable__control:checked~div.sk-toggleable__content {max-height: 200px;max-width: 100%;overflow: auto;}#sk-4e0efdab-d62e-4b43-9f40-0b03a51d6e31 input.sk-toggleable__control:checked~label.sk-toggleable__label-arrow:before {content: \"▾\";}#sk-4e0efdab-d62e-4b43-9f40-0b03a51d6e31 div.sk-estimator input.sk-toggleable__control:checked~label.sk-toggleable__label {background-color: #d4ebff;}#sk-4e0efdab-d62e-4b43-9f40-0b03a51d6e31 div.sk-label input.sk-toggleable__control:checked~label.sk-toggleable__label {background-color: #d4ebff;}#sk-4e0efdab-d62e-4b43-9f40-0b03a51d6e31 input.sk-hidden--visually {border: 0;clip: rect(1px 1px 1px 1px);clip: rect(1px, 1px, 1px, 1px);height: 1px;margin: -1px;overflow: hidden;padding: 0;position: absolute;width: 1px;}#sk-4e0efdab-d62e-4b43-9f40-0b03a51d6e31 div.sk-estimator {font-family: monospace;background-color: #f0f8ff;border: 1px dotted black;border-radius: 0.25em;box-sizing: border-box;margin-bottom: 0.5em;}#sk-4e0efdab-d62e-4b43-9f40-0b03a51d6e31 div.sk-estimator:hover {background-color: #d4ebff;}#sk-4e0efdab-d62e-4b43-9f40-0b03a51d6e31 div.sk-parallel-item::after {content: \"\";width: 100%;border-bottom: 1px solid gray;flex-grow: 1;}#sk-4e0efdab-d62e-4b43-9f40-0b03a51d6e31 div.sk-label:hover label.sk-toggleable__label {background-color: #d4ebff;}#sk-4e0efdab-d62e-4b43-9f40-0b03a51d6e31 div.sk-serial::before {content: \"\";position: absolute;border-left: 1px solid gray;box-sizing: border-box;top: 2em;bottom: 0;left: 50%;}#sk-4e0efdab-d62e-4b43-9f40-0b03a51d6e31 div.sk-serial {display: flex;flex-direction: column;align-items: center;background-color: white;padding-right: 0.2em;padding-left: 0.2em;}#sk-4e0efdab-d62e-4b43-9f40-0b03a51d6e31 div.sk-item {z-index: 1;}#sk-4e0efdab-d62e-4b43-9f40-0b03a51d6e31 div.sk-parallel {display: flex;align-items: stretch;justify-content: center;background-color: white;}#sk-4e0efdab-d62e-4b43-9f40-0b03a51d6e31 div.sk-parallel::before {content: \"\";position: absolute;border-left: 1px solid gray;box-sizing: border-box;top: 2em;bottom: 0;left: 50%;}#sk-4e0efdab-d62e-4b43-9f40-0b03a51d6e31 div.sk-parallel-item {display: flex;flex-direction: column;position: relative;background-color: white;}#sk-4e0efdab-d62e-4b43-9f40-0b03a51d6e31 div.sk-parallel-item:first-child::after {align-self: flex-end;width: 50%;}#sk-4e0efdab-d62e-4b43-9f40-0b03a51d6e31 div.sk-parallel-item:last-child::after {align-self: flex-start;width: 50%;}#sk-4e0efdab-d62e-4b43-9f40-0b03a51d6e31 div.sk-parallel-item:only-child::after {width: 0;}#sk-4e0efdab-d62e-4b43-9f40-0b03a51d6e31 div.sk-dashed-wrapped {border: 1px dashed gray;margin: 0 0.4em 0.5em 0.4em;box-sizing: border-box;padding-bottom: 0.4em;background-color: white;position: relative;}#sk-4e0efdab-d62e-4b43-9f40-0b03a51d6e31 div.sk-label label {font-family: monospace;font-weight: bold;background-color: white;display: inline-block;line-height: 1.2em;}#sk-4e0efdab-d62e-4b43-9f40-0b03a51d6e31 div.sk-label-container {position: relative;z-index: 2;text-align: center;}#sk-4e0efdab-d62e-4b43-9f40-0b03a51d6e31 div.sk-container {/* jupyter's `normalize.less` sets `[hidden] { display: none; }` but bootstrap.min.css set `[hidden] { display: none !important; }` so we also need the `!important` here to be able to override the default hidden behavior on the sphinx rendered scikit-learn.org. See: https://github.com/scikit-learn/scikit-learn/issues/21755 */display: inline-block !important;position: relative;}#sk-4e0efdab-d62e-4b43-9f40-0b03a51d6e31 div.sk-text-repr-fallback {display: none;}</style><div id=\"sk-4e0efdab-d62e-4b43-9f40-0b03a51d6e31\" class=\"sk-top-container\"><div class=\"sk-text-repr-fallback\"><pre>ColumnTransformer(remainder=&#x27;passthrough&#x27;,\n",
       "                  transformers=[(&#x27;cat&#x27;,\n",
       "                                 Pipeline(steps=[(&#x27;onehot&#x27;,\n",
       "                                                  OneHotEncoder(dtype=&#x27;int&#x27;,\n",
       "                                                                handle_unknown=&#x27;ignore&#x27;)),\n",
       "                                                 (&#x27;imputer&#x27;,\n",
       "                                                  SimpleImputer(fill_value=-1,\n",
       "                                                                strategy=&#x27;constant&#x27;))]),\n",
       "                                 [&#x27;Geschlecht&#x27;, &#x27;Arbeitsstelle&#x27;,\n",
       "                                  &#x27;Wohnsituation&#x27;, &#x27;Sparkonto&#x27;, &#x27;Lohnkonto&#x27;,\n",
       "                                  &#x27;Verwendungszweck&#x27;])],\n",
       "                  verbose_feature_names_out=False)</pre><b>Please rerun this cell to show the HTML repr or trust the notebook.</b></div><div class=\"sk-container\" hidden><div class=\"sk-item sk-dashed-wrapped\"><div class=\"sk-label-container\"><div class=\"sk-label sk-toggleable\"><input class=\"sk-toggleable__control sk-hidden--visually\" id=\"206b76c3-1751-414a-9e82-16288775b1de\" type=\"checkbox\" ><label for=\"206b76c3-1751-414a-9e82-16288775b1de\" class=\"sk-toggleable__label sk-toggleable__label-arrow\">ColumnTransformer</label><div class=\"sk-toggleable__content\"><pre>ColumnTransformer(remainder=&#x27;passthrough&#x27;,\n",
       "                  transformers=[(&#x27;cat&#x27;,\n",
       "                                 Pipeline(steps=[(&#x27;onehot&#x27;,\n",
       "                                                  OneHotEncoder(dtype=&#x27;int&#x27;,\n",
       "                                                                handle_unknown=&#x27;ignore&#x27;)),\n",
       "                                                 (&#x27;imputer&#x27;,\n",
       "                                                  SimpleImputer(fill_value=-1,\n",
       "                                                                strategy=&#x27;constant&#x27;))]),\n",
       "                                 [&#x27;Geschlecht&#x27;, &#x27;Arbeitsstelle&#x27;,\n",
       "                                  &#x27;Wohnsituation&#x27;, &#x27;Sparkonto&#x27;, &#x27;Lohnkonto&#x27;,\n",
       "                                  &#x27;Verwendungszweck&#x27;])],\n",
       "                  verbose_feature_names_out=False)</pre></div></div></div><div class=\"sk-parallel\"><div class=\"sk-parallel-item\"><div class=\"sk-item\"><div class=\"sk-label-container\"><div class=\"sk-label sk-toggleable\"><input class=\"sk-toggleable__control sk-hidden--visually\" id=\"a857c08f-c1d9-4a1e-9830-e33e9a5ae721\" type=\"checkbox\" ><label for=\"a857c08f-c1d9-4a1e-9830-e33e9a5ae721\" class=\"sk-toggleable__label sk-toggleable__label-arrow\">cat</label><div class=\"sk-toggleable__content\"><pre>[&#x27;Geschlecht&#x27;, &#x27;Arbeitsstelle&#x27;, &#x27;Wohnsituation&#x27;, &#x27;Sparkonto&#x27;, &#x27;Lohnkonto&#x27;, &#x27;Verwendungszweck&#x27;]</pre></div></div></div><div class=\"sk-serial\"><div class=\"sk-item\"><div class=\"sk-serial\"><div class=\"sk-item\"><div class=\"sk-estimator sk-toggleable\"><input class=\"sk-toggleable__control sk-hidden--visually\" id=\"bd3c0d35-b89f-487d-9804-5e381837aad5\" type=\"checkbox\" ><label for=\"bd3c0d35-b89f-487d-9804-5e381837aad5\" class=\"sk-toggleable__label sk-toggleable__label-arrow\">OneHotEncoder</label><div class=\"sk-toggleable__content\"><pre>OneHotEncoder(dtype=&#x27;int&#x27;, handle_unknown=&#x27;ignore&#x27;)</pre></div></div></div><div class=\"sk-item\"><div class=\"sk-estimator sk-toggleable\"><input class=\"sk-toggleable__control sk-hidden--visually\" id=\"65b7faa0-ef29-4f74-9ec9-29f6e57b0dcf\" type=\"checkbox\" ><label for=\"65b7faa0-ef29-4f74-9ec9-29f6e57b0dcf\" class=\"sk-toggleable__label sk-toggleable__label-arrow\">SimpleImputer</label><div class=\"sk-toggleable__content\"><pre>SimpleImputer(fill_value=-1, strategy=&#x27;constant&#x27;)</pre></div></div></div></div></div></div></div></div><div class=\"sk-parallel-item\"><div class=\"sk-item\"><div class=\"sk-label-container\"><div class=\"sk-label sk-toggleable\"><input class=\"sk-toggleable__control sk-hidden--visually\" id=\"6173cab7-0868-4a45-9f47-810082f1ad19\" type=\"checkbox\" ><label for=\"6173cab7-0868-4a45-9f47-810082f1ad19\" class=\"sk-toggleable__label sk-toggleable__label-arrow\">remainder</label><div class=\"sk-toggleable__content\"><pre>[&#x27;Alter&#x27;, &#x27;Kreditbetrag&#x27;, &#x27;Laufzeit&#x27;]</pre></div></div></div><div class=\"sk-serial\"><div class=\"sk-item\"><div class=\"sk-estimator sk-toggleable\"><input class=\"sk-toggleable__control sk-hidden--visually\" id=\"fc502ae1-797f-44e7-84f9-efabb926d7fe\" type=\"checkbox\" ><label for=\"fc502ae1-797f-44e7-84f9-efabb926d7fe\" class=\"sk-toggleable__label sk-toggleable__label-arrow\">passthrough</label><div class=\"sk-toggleable__content\"><pre>passthrough</pre></div></div></div></div></div></div></div></div></div></div>"
      ],
      "text/plain": [
       "ColumnTransformer(remainder='passthrough',\n",
       "                  transformers=[('cat',\n",
       "                                 Pipeline(steps=[('onehot',\n",
       "                                                  OneHotEncoder(dtype='int',\n",
       "                                                                handle_unknown='ignore')),\n",
       "                                                 ('imputer',\n",
       "                                                  SimpleImputer(fill_value=-1,\n",
       "                                                                strategy='constant'))]),\n",
       "                                 ['Geschlecht', 'Arbeitsstelle',\n",
       "                                  'Wohnsituation', 'Sparkonto', 'Lohnkonto',\n",
       "                                  'Verwendungszweck'])],\n",
       "                  verbose_feature_names_out=False)"
      ]
     },
     "execution_count": 45,
     "metadata": {},
     "output_type": "execute_result"
    }
   ],
   "source": [
    "clf.named_steps['preprocessor']."
   ]
  },
  {
   "cell_type": "code",
   "execution_count": 52,
   "id": "e262076e-75ac-45d5-b739-779c75be7f99",
   "metadata": {},
   "outputs": [
    {
     "data": {
      "text/plain": [
       "Index(['Alter', 'Geschlecht', 'Arbeitsstelle', 'Wohnsituation', 'Sparkonto',\n",
       "       'Lohnkonto', 'Kreditbetrag', 'Laufzeit', 'Verwendungszweck'],\n",
       "      dtype='object')"
      ]
     },
     "execution_count": 52,
     "metadata": {},
     "output_type": "execute_result"
    }
   ],
   "source": [
    "df_X.columns"
   ]
  },
  {
   "cell_type": "code",
   "execution_count": 68,
   "id": "62b893b0-19ee-4157-8017-83655e2200b7",
   "metadata": {},
   "outputs": [],
   "source": [
    "data=[{'Alter': 67, 'Geschlecht': 'weiblich', 'Arbeitsstelle': 'mittlere Qualifikation', 'Wohnsituation': 'Eigentum', 'Sparkonto': pd.NA, 'Lohnkonto': 'gering', 'Kreditbetrag': 5076, 'Laufzeit': 6, 'Verwendungszweck': 'Unterhaltungselektronik'}]"
   ]
  },
  {
   "cell_type": "code",
   "execution_count": 69,
   "id": "bd36cfee-db9e-4a7a-a556-95077688c0b1",
   "metadata": {},
   "outputs": [
    {
     "data": {
      "text/plain": [
       "array([[   0,    1,    0,    1,    0,    0,    1,    0,    0,    0,    0,\n",
       "           0,    0,    0,    1,    0,    0,    0,    0,    0,    0,    0,\n",
       "           0,    0,    1,    0,   67, 5076,    6]], dtype=int64)"
      ]
     },
     "execution_count": 69,
     "metadata": {},
     "output_type": "execute_result"
    }
   ],
   "source": [
    "clf.named_steps['preprocessor'].transform(pd.DataFrame.from_records(data))"
   ]
  },
  {
   "cell_type": "code",
   "execution_count": 76,
   "id": "cdcae787-9357-4928-bf0b-50d2b0488c73",
   "metadata": {},
   "outputs": [
    {
     "data": {
      "text/plain": [
       "array([[   0,    1,    0,    1,    0,    0,    1,    0,    0,    0,    0,\n",
       "           0,    0,    1,    1,    0,    0,    0,    0,    0,    0,    0,\n",
       "           0,    0,    1,    0,   67, 5076,    6]], dtype=int64)"
      ]
     },
     "execution_count": 76,
     "metadata": {},
     "output_type": "execute_result"
    }
   ],
   "source": [
    "clf.named_steps['preprocessor'].transform(df_X.loc[:0])"
   ]
  },
  {
   "cell_type": "code",
   "execution_count": 100,
   "id": "461eead7-66b0-44b9-85c9-b6d5c1494892",
   "metadata": {},
   "outputs": [
    {
     "data": {
      "text/plain": [
       "array(['Geschlecht', 'Arbeitsstelle', 'Wohnsituation', 'Sparkonto',\n",
       "       'Lohnkonto', 'Verwendungszweck'], dtype=object)"
      ]
     },
     "execution_count": 100,
     "metadata": {},
     "output_type": "execute_result"
    }
   ],
   "source": [
    "clf.named_steps['preprocessor'].named_transformers_['cat'].named_steps['onehot'].feature_names_in_ #.named_features['onehot']"
   ]
  },
  {
   "cell_type": "code",
   "execution_count": 101,
   "id": "9c03c819-18ed-4ee5-8e95-ab2c7b1401d8",
   "metadata": {},
   "outputs": [
    {
     "data": {
      "text/plain": [
       "[array(['männlich', 'weiblich'], dtype=object),\n",
       " array(['hohe Qualifikation', 'mittlere Qualifikation',\n",
       "        'niedrige Qualifikation - permanent',\n",
       "        'niedrige Qualifikation - temporär'], dtype=object),\n",
       " array(['Eigentum', 'Miete', 'kostenlos'], dtype=object),\n",
       " array(['gering', 'hoch', 'mittel', 'sehr hoch', nan], dtype=object),\n",
       " array(['gering', 'hoch', 'mittel', nan], dtype=object),\n",
       " array(['Ausbildung', 'Fahrzeug', 'Ferien/andere', 'Geschäft',\n",
       "        'Haushaltsgeräte', 'Unterhalt', 'Unterhaltungselektronik',\n",
       "        'Wohnungsreinrichtung'], dtype=object)]"
      ]
     },
     "execution_count": 101,
     "metadata": {},
     "output_type": "execute_result"
    }
   ],
   "source": [
    "clf.named_steps['preprocessor'].named_transformers_['cat'].named_steps['onehot'].categories_"
   ]
  },
  {
   "cell_type": "code",
   "execution_count": 114,
   "id": "cd129eee-2900-4c46-b3bc-699ba984ed0b",
   "metadata": {},
   "outputs": [],
   "source": [
    "cat_features_cats = [(feat, list(clf.named_steps['preprocessor'].named_transformers_['cat'].named_steps['onehot'].categories_[i])) for i, feat in enumerate(cat_features)]"
   ]
  },
  {
   "cell_type": "code",
   "execution_count": 115,
   "id": "2e9fd7a1-eea6-45ab-83c5-b3096656f38c",
   "metadata": {},
   "outputs": [
    {
     "data": {
      "text/plain": [
       "[('Geschlecht', ['männlich', 'weiblich']),\n",
       " ('Arbeitsstelle',\n",
       "  ['hohe Qualifikation',\n",
       "   'mittlere Qualifikation',\n",
       "   'niedrige Qualifikation - permanent',\n",
       "   'niedrige Qualifikation - temporär']),\n",
       " ('Wohnsituation', ['Eigentum', 'Miete', 'kostenlos']),\n",
       " ('Sparkonto', ['gering', 'hoch', 'mittel', 'sehr hoch', nan]),\n",
       " ('Lohnkonto', ['gering', 'hoch', 'mittel', nan]),\n",
       " ('Verwendungszweck',\n",
       "  ['Ausbildung',\n",
       "   'Fahrzeug',\n",
       "   'Ferien/andere',\n",
       "   'Geschäft',\n",
       "   'Haushaltsgeräte',\n",
       "   'Unterhalt',\n",
       "   'Unterhaltungselektronik',\n",
       "   'Wohnungsreinrichtung'])]"
      ]
     },
     "execution_count": 115,
     "metadata": {},
     "output_type": "execute_result"
    }
   ],
   "source": [
    "cat_features_cats"
   ]
  },
  {
   "cell_type": "code",
   "execution_count": 109,
   "id": "7a593818-256e-4b82-96e1-7021edbd1794",
   "metadata": {},
   "outputs": [
    {
     "data": {
      "text/plain": [
       "['Alter', 'Kreditbetrag', 'Laufzeit']"
      ]
     },
     "execution_count": 109,
     "metadata": {},
     "output_type": "execute_result"
    }
   ],
   "source": [
    "num_features"
   ]
  },
  {
   "cell_type": "code",
   "execution_count": 102,
   "id": "3643f30d-cc6f-4261-beb1-989b09c4140b",
   "metadata": {},
   "outputs": [
    {
     "data": {
      "text/plain": [
       "array([1], dtype=int64)"
      ]
     },
     "execution_count": 102,
     "metadata": {},
     "output_type": "execute_result"
    }
   ],
   "source": [
    "clf.predict(pd.DataFrame.from_records(data))"
   ]
  },
  {
   "cell_type": "code",
   "execution_count": null,
   "id": "2ffe1034-6267-4995-b242-bf98eb479d45",
   "metadata": {},
   "outputs": [],
   "source": []
  },
  {
   "cell_type": "code",
   "execution_count": 104,
   "id": "83825335-b11e-4a45-98a4-4431735e63bf",
   "metadata": {},
   "outputs": [
    {
     "data": {
      "text/plain": [
       "['models\\\\clf.joblib']"
      ]
     },
     "execution_count": 104,
     "metadata": {},
     "output_type": "execute_result"
    }
   ],
   "source": [
    "dump(clf, os.path.join('models', 'clf.joblib'))"
   ]
  },
  {
   "cell_type": "code",
   "execution_count": 105,
   "id": "cceed1c4-2de0-454b-99bd-19642cd0f711",
   "metadata": {},
   "outputs": [],
   "source": [
    "l = load(os.path.join('models', 'clf.joblib'))"
   ]
  },
  {
   "cell_type": "code",
   "execution_count": null,
   "id": "538ad3a8-668c-48c1-ae41-32853ebe046b",
   "metadata": {},
   "outputs": [],
   "source": []
  },
  {
   "cell_type": "code",
   "execution_count": null,
   "id": "184a83d7-06a9-432f-892d-ee41a778e904",
   "metadata": {},
   "outputs": [],
   "source": []
  }
 ],
 "metadata": {
  "kernelspec": {
   "display_name": "Python 3 (ipykernel)",
   "language": "python",
   "name": "python3"
  },
  "language_info": {
   "codemirror_mode": {
    "name": "ipython",
    "version": 3
   },
   "file_extension": ".py",
   "mimetype": "text/x-python",
   "name": "python",
   "nbconvert_exporter": "python",
   "pygments_lexer": "ipython3",
   "version": "3.10.4"
  }
 },
 "nbformat": 4,
 "nbformat_minor": 5
}
