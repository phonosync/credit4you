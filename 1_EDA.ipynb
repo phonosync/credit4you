{
 "cells": [
  {
   "cell_type": "code",
   "execution_count": 1,
   "id": "e9f05f8b-3fcc-4421-bc39-046d10fd908b",
   "metadata": {},
   "outputs": [],
   "source": [
    "import pandas as pd\n",
    "import numpy as np\n",
    "import os\n",
    "from joblib import dump, load\n",
    "from sklearn.pipeline import Pipeline\n",
    "from sklearn import set_config\n",
    "from sklearn.compose import ColumnTransformer\n",
    "from sklearn.preprocessing import OneHotEncoder\n",
    "from sklearn.impute import SimpleImputer\n",
    "from sklearn.model_selection import train_test_split\n",
    "from sklearn.linear_model import LogisticRegression\n",
    "from dotenv import load_dotenv"
   ]
  },
  {
   "cell_type": "code",
   "execution_count": 2,
   "id": "ae6bb36e-9e7b-4dfc-9418-28b02f191bf8",
   "metadata": {},
   "outputs": [],
   "source": [
    "import joblib"
   ]
  },
  {
   "cell_type": "code",
   "execution_count": 3,
   "id": "4afd6b1a-ac38-4b01-8984-bccaa4aed422",
   "metadata": {},
   "outputs": [
    {
     "data": {
      "text/plain": [
       "'1.0.1'"
      ]
     },
     "execution_count": 3,
     "metadata": {},
     "output_type": "execute_result"
    }
   ],
   "source": [
    "joblib.__version__"
   ]
  },
  {
   "cell_type": "code",
   "execution_count": 4,
   "id": "63676a8e-8fba-45df-9d1b-16b783a4321b",
   "metadata": {},
   "outputs": [],
   "source": [
    "import sklearn"
   ]
  },
  {
   "cell_type": "code",
   "execution_count": 5,
   "id": "24139529-515f-47ca-bc3e-7454ec61ca79",
   "metadata": {},
   "outputs": [
    {
     "data": {
      "text/plain": [
       "'1.0.2'"
      ]
     },
     "execution_count": 5,
     "metadata": {},
     "output_type": "execute_result"
    }
   ],
   "source": [
    "sklearn.__version__"
   ]
  },
  {
   "cell_type": "code",
   "execution_count": 6,
   "id": "3fa97085-da5c-4346-896c-2e0f6fd50afb",
   "metadata": {},
   "outputs": [],
   "source": [
    "load_dotenv()\n",
    "data_basepath = os.environ['DATA_BASEPATH']\n",
    "fn = 'Bonität Auszug 14-10-2022 export.csv'"
   ]
  },
  {
   "cell_type": "code",
   "execution_count": 7,
   "id": "00d188d5-4c67-4b17-834a-ddda190a177d",
   "metadata": {},
   "outputs": [],
   "source": [
    "df = pd.read_csv(os.path.join(data_basepath, fn), sep=';')"
   ]
  },
  {
   "cell_type": "code",
   "execution_count": 8,
   "id": "6982a55e-0cfb-4f21-82a5-53cc56c4f20c",
   "metadata": {},
   "outputs": [],
   "source": [
    "y = df['Risiko']"
   ]
  },
  {
   "cell_type": "code",
   "execution_count": 9,
   "id": "88ca30e2-82ad-4f3b-8526-3b23c54937a1",
   "metadata": {},
   "outputs": [],
   "source": [
    "df['Geschlecht']=df['Geschlecht'].replace({0:'weiblich', 1:'männlich'})"
   ]
  },
  {
   "cell_type": "code",
   "execution_count": 10,
   "id": "f5d0d4a4-b53e-482a-b4bc-c00c32c66b03",
   "metadata": {},
   "outputs": [],
   "source": [
    "df_X = df.drop(['Index', 'Risiko'], axis=1)"
   ]
  },
  {
   "cell_type": "code",
   "execution_count": 11,
   "id": "edb19a0a-74c9-4410-979c-1a08c168e6ce",
   "metadata": {},
   "outputs": [
    {
     "data": {
      "text/html": [
       "<div>\n",
       "<style scoped>\n",
       "    .dataframe tbody tr th:only-of-type {\n",
       "        vertical-align: middle;\n",
       "    }\n",
       "\n",
       "    .dataframe tbody tr th {\n",
       "        vertical-align: top;\n",
       "    }\n",
       "\n",
       "    .dataframe thead th {\n",
       "        text-align: right;\n",
       "    }\n",
       "</style>\n",
       "<table border=\"1\" class=\"dataframe\">\n",
       "  <thead>\n",
       "    <tr style=\"text-align: right;\">\n",
       "      <th></th>\n",
       "      <th>Alter</th>\n",
       "      <th>Geschlecht</th>\n",
       "      <th>Arbeitsstelle</th>\n",
       "      <th>Wohnsituation</th>\n",
       "      <th>Sparkonto</th>\n",
       "      <th>Lohnkonto</th>\n",
       "      <th>Kreditbetrag</th>\n",
       "      <th>Laufzeit</th>\n",
       "      <th>Verwendungszweck</th>\n",
       "    </tr>\n",
       "  </thead>\n",
       "  <tbody>\n",
       "    <tr>\n",
       "      <th>0</th>\n",
       "      <td>67</td>\n",
       "      <td>weiblich</td>\n",
       "      <td>mittlere Qualifikation</td>\n",
       "      <td>Eigentum</td>\n",
       "      <td>NaN</td>\n",
       "      <td>gering</td>\n",
       "      <td>5076</td>\n",
       "      <td>6</td>\n",
       "      <td>Unterhaltungselektronik</td>\n",
       "    </tr>\n",
       "    <tr>\n",
       "      <th>1</th>\n",
       "      <td>22</td>\n",
       "      <td>männlich</td>\n",
       "      <td>mittlere Qualifikation</td>\n",
       "      <td>Eigentum</td>\n",
       "      <td>gering</td>\n",
       "      <td>mittel</td>\n",
       "      <td>25840</td>\n",
       "      <td>48</td>\n",
       "      <td>Unterhaltungselektronik</td>\n",
       "    </tr>\n",
       "    <tr>\n",
       "      <th>2</th>\n",
       "      <td>49</td>\n",
       "      <td>weiblich</td>\n",
       "      <td>niedrige Qualifikation - permanent</td>\n",
       "      <td>Eigentum</td>\n",
       "      <td>gering</td>\n",
       "      <td>NaN</td>\n",
       "      <td>9101</td>\n",
       "      <td>12</td>\n",
       "      <td>Ausbildung</td>\n",
       "    </tr>\n",
       "    <tr>\n",
       "      <th>3</th>\n",
       "      <td>45</td>\n",
       "      <td>weiblich</td>\n",
       "      <td>mittlere Qualifikation</td>\n",
       "      <td>kostenlos</td>\n",
       "      <td>gering</td>\n",
       "      <td>gering</td>\n",
       "      <td>34224</td>\n",
       "      <td>42</td>\n",
       "      <td>Wohnungsreinrichtung</td>\n",
       "    </tr>\n",
       "    <tr>\n",
       "      <th>4</th>\n",
       "      <td>53</td>\n",
       "      <td>weiblich</td>\n",
       "      <td>mittlere Qualifikation</td>\n",
       "      <td>kostenlos</td>\n",
       "      <td>gering</td>\n",
       "      <td>gering</td>\n",
       "      <td>21146</td>\n",
       "      <td>24</td>\n",
       "      <td>Fahrzeug</td>\n",
       "    </tr>\n",
       "    <tr>\n",
       "      <th>...</th>\n",
       "      <td>...</td>\n",
       "      <td>...</td>\n",
       "      <td>...</td>\n",
       "      <td>...</td>\n",
       "      <td>...</td>\n",
       "      <td>...</td>\n",
       "      <td>...</td>\n",
       "      <td>...</td>\n",
       "      <td>...</td>\n",
       "    </tr>\n",
       "    <tr>\n",
       "      <th>992</th>\n",
       "      <td>31</td>\n",
       "      <td>männlich</td>\n",
       "      <td>niedrige Qualifikation - permanent</td>\n",
       "      <td>Eigentum</td>\n",
       "      <td>gering</td>\n",
       "      <td>NaN</td>\n",
       "      <td>7538</td>\n",
       "      <td>12</td>\n",
       "      <td>Wohnungsreinrichtung</td>\n",
       "    </tr>\n",
       "    <tr>\n",
       "      <th>993</th>\n",
       "      <td>40</td>\n",
       "      <td>weiblich</td>\n",
       "      <td>hohe Qualifikation</td>\n",
       "      <td>Eigentum</td>\n",
       "      <td>gering</td>\n",
       "      <td>gering</td>\n",
       "      <td>16748</td>\n",
       "      <td>30</td>\n",
       "      <td>Fahrzeug</td>\n",
       "    </tr>\n",
       "    <tr>\n",
       "      <th>994</th>\n",
       "      <td>38</td>\n",
       "      <td>weiblich</td>\n",
       "      <td>mittlere Qualifikation</td>\n",
       "      <td>Eigentum</td>\n",
       "      <td>gering</td>\n",
       "      <td>NaN</td>\n",
       "      <td>3491</td>\n",
       "      <td>12</td>\n",
       "      <td>Unterhaltungselektronik</td>\n",
       "    </tr>\n",
       "    <tr>\n",
       "      <th>995</th>\n",
       "      <td>23</td>\n",
       "      <td>weiblich</td>\n",
       "      <td>mittlere Qualifikation</td>\n",
       "      <td>kostenlos</td>\n",
       "      <td>gering</td>\n",
       "      <td>gering</td>\n",
       "      <td>8011</td>\n",
       "      <td>45</td>\n",
       "      <td>Unterhaltungselektronik</td>\n",
       "    </tr>\n",
       "    <tr>\n",
       "      <th>996</th>\n",
       "      <td>27</td>\n",
       "      <td>weiblich</td>\n",
       "      <td>mittlere Qualifikation</td>\n",
       "      <td>Eigentum</td>\n",
       "      <td>mittel</td>\n",
       "      <td>mittel</td>\n",
       "      <td>19869</td>\n",
       "      <td>45</td>\n",
       "      <td>Fahrzeug</td>\n",
       "    </tr>\n",
       "  </tbody>\n",
       "</table>\n",
       "<p>997 rows × 9 columns</p>\n",
       "</div>"
      ],
      "text/plain": [
       "     Alter Geschlecht                       Arbeitsstelle Wohnsituation  \\\n",
       "0       67   weiblich              mittlere Qualifikation      Eigentum   \n",
       "1       22   männlich              mittlere Qualifikation      Eigentum   \n",
       "2       49   weiblich  niedrige Qualifikation - permanent      Eigentum   \n",
       "3       45   weiblich              mittlere Qualifikation     kostenlos   \n",
       "4       53   weiblich              mittlere Qualifikation     kostenlos   \n",
       "..     ...        ...                                 ...           ...   \n",
       "992     31   männlich  niedrige Qualifikation - permanent      Eigentum   \n",
       "993     40   weiblich                  hohe Qualifikation      Eigentum   \n",
       "994     38   weiblich              mittlere Qualifikation      Eigentum   \n",
       "995     23   weiblich              mittlere Qualifikation     kostenlos   \n",
       "996     27   weiblich              mittlere Qualifikation      Eigentum   \n",
       "\n",
       "    Sparkonto Lohnkonto  Kreditbetrag  Laufzeit         Verwendungszweck  \n",
       "0         NaN    gering          5076         6  Unterhaltungselektronik  \n",
       "1      gering    mittel         25840        48  Unterhaltungselektronik  \n",
       "2      gering       NaN          9101        12               Ausbildung  \n",
       "3      gering    gering         34224        42     Wohnungsreinrichtung  \n",
       "4      gering    gering         21146        24                 Fahrzeug  \n",
       "..        ...       ...           ...       ...                      ...  \n",
       "992    gering       NaN          7538        12     Wohnungsreinrichtung  \n",
       "993    gering    gering         16748        30                 Fahrzeug  \n",
       "994    gering       NaN          3491        12  Unterhaltungselektronik  \n",
       "995    gering    gering          8011        45  Unterhaltungselektronik  \n",
       "996    mittel    mittel         19869        45                 Fahrzeug  \n",
       "\n",
       "[997 rows x 9 columns]"
      ]
     },
     "execution_count": 11,
     "metadata": {},
     "output_type": "execute_result"
    }
   ],
   "source": [
    "df_X"
   ]
  },
  {
   "cell_type": "code",
   "execution_count": 12,
   "id": "fd811003-850c-42fe-8a3f-98f0a53e2f67",
   "metadata": {},
   "outputs": [],
   "source": [
    "cat_features = ['Geschlecht','Arbeitsstelle','Wohnsituation','Sparkonto','Lohnkonto','Verwendungszweck']\n",
    "num_features = ['Alter', 'Kreditbetrag', 'Laufzeit']"
   ]
  },
  {
   "cell_type": "code",
   "execution_count": 13,
   "id": "bfafff7b-6ed5-4e60-8b85-ee869d101f1f",
   "metadata": {},
   "outputs": [
    {
     "data": {
      "text/html": [
       "<div>\n",
       "<style scoped>\n",
       "    .dataframe tbody tr th:only-of-type {\n",
       "        vertical-align: middle;\n",
       "    }\n",
       "\n",
       "    .dataframe tbody tr th {\n",
       "        vertical-align: top;\n",
       "    }\n",
       "\n",
       "    .dataframe thead th {\n",
       "        text-align: right;\n",
       "    }\n",
       "</style>\n",
       "<table border=\"1\" class=\"dataframe\">\n",
       "  <thead>\n",
       "    <tr style=\"text-align: right;\">\n",
       "      <th></th>\n",
       "      <th>Geschlecht</th>\n",
       "      <th>Arbeitsstelle</th>\n",
       "      <th>Wohnsituation</th>\n",
       "      <th>Sparkonto</th>\n",
       "      <th>Lohnkonto</th>\n",
       "      <th>Verwendungszweck</th>\n",
       "    </tr>\n",
       "  </thead>\n",
       "  <tbody>\n",
       "    <tr>\n",
       "      <th>0</th>\n",
       "      <td>weiblich</td>\n",
       "      <td>mittlere Qualifikation</td>\n",
       "      <td>Eigentum</td>\n",
       "      <td>NaN</td>\n",
       "      <td>gering</td>\n",
       "      <td>Unterhaltungselektronik</td>\n",
       "    </tr>\n",
       "    <tr>\n",
       "      <th>1</th>\n",
       "      <td>männlich</td>\n",
       "      <td>mittlere Qualifikation</td>\n",
       "      <td>Eigentum</td>\n",
       "      <td>gering</td>\n",
       "      <td>mittel</td>\n",
       "      <td>Unterhaltungselektronik</td>\n",
       "    </tr>\n",
       "    <tr>\n",
       "      <th>2</th>\n",
       "      <td>weiblich</td>\n",
       "      <td>niedrige Qualifikation - permanent</td>\n",
       "      <td>Eigentum</td>\n",
       "      <td>gering</td>\n",
       "      <td>NaN</td>\n",
       "      <td>Ausbildung</td>\n",
       "    </tr>\n",
       "    <tr>\n",
       "      <th>3</th>\n",
       "      <td>weiblich</td>\n",
       "      <td>mittlere Qualifikation</td>\n",
       "      <td>kostenlos</td>\n",
       "      <td>gering</td>\n",
       "      <td>gering</td>\n",
       "      <td>Wohnungsreinrichtung</td>\n",
       "    </tr>\n",
       "    <tr>\n",
       "      <th>4</th>\n",
       "      <td>weiblich</td>\n",
       "      <td>mittlere Qualifikation</td>\n",
       "      <td>kostenlos</td>\n",
       "      <td>gering</td>\n",
       "      <td>gering</td>\n",
       "      <td>Fahrzeug</td>\n",
       "    </tr>\n",
       "    <tr>\n",
       "      <th>...</th>\n",
       "      <td>...</td>\n",
       "      <td>...</td>\n",
       "      <td>...</td>\n",
       "      <td>...</td>\n",
       "      <td>...</td>\n",
       "      <td>...</td>\n",
       "    </tr>\n",
       "    <tr>\n",
       "      <th>992</th>\n",
       "      <td>männlich</td>\n",
       "      <td>niedrige Qualifikation - permanent</td>\n",
       "      <td>Eigentum</td>\n",
       "      <td>gering</td>\n",
       "      <td>NaN</td>\n",
       "      <td>Wohnungsreinrichtung</td>\n",
       "    </tr>\n",
       "    <tr>\n",
       "      <th>993</th>\n",
       "      <td>weiblich</td>\n",
       "      <td>hohe Qualifikation</td>\n",
       "      <td>Eigentum</td>\n",
       "      <td>gering</td>\n",
       "      <td>gering</td>\n",
       "      <td>Fahrzeug</td>\n",
       "    </tr>\n",
       "    <tr>\n",
       "      <th>994</th>\n",
       "      <td>weiblich</td>\n",
       "      <td>mittlere Qualifikation</td>\n",
       "      <td>Eigentum</td>\n",
       "      <td>gering</td>\n",
       "      <td>NaN</td>\n",
       "      <td>Unterhaltungselektronik</td>\n",
       "    </tr>\n",
       "    <tr>\n",
       "      <th>995</th>\n",
       "      <td>weiblich</td>\n",
       "      <td>mittlere Qualifikation</td>\n",
       "      <td>kostenlos</td>\n",
       "      <td>gering</td>\n",
       "      <td>gering</td>\n",
       "      <td>Unterhaltungselektronik</td>\n",
       "    </tr>\n",
       "    <tr>\n",
       "      <th>996</th>\n",
       "      <td>weiblich</td>\n",
       "      <td>mittlere Qualifikation</td>\n",
       "      <td>Eigentum</td>\n",
       "      <td>mittel</td>\n",
       "      <td>mittel</td>\n",
       "      <td>Fahrzeug</td>\n",
       "    </tr>\n",
       "  </tbody>\n",
       "</table>\n",
       "<p>997 rows × 6 columns</p>\n",
       "</div>"
      ],
      "text/plain": [
       "    Geschlecht                       Arbeitsstelle Wohnsituation Sparkonto  \\\n",
       "0     weiblich              mittlere Qualifikation      Eigentum       NaN   \n",
       "1     männlich              mittlere Qualifikation      Eigentum    gering   \n",
       "2     weiblich  niedrige Qualifikation - permanent      Eigentum    gering   \n",
       "3     weiblich              mittlere Qualifikation     kostenlos    gering   \n",
       "4     weiblich              mittlere Qualifikation     kostenlos    gering   \n",
       "..         ...                                 ...           ...       ...   \n",
       "992   männlich  niedrige Qualifikation - permanent      Eigentum    gering   \n",
       "993   weiblich                  hohe Qualifikation      Eigentum    gering   \n",
       "994   weiblich              mittlere Qualifikation      Eigentum    gering   \n",
       "995   weiblich              mittlere Qualifikation     kostenlos    gering   \n",
       "996   weiblich              mittlere Qualifikation      Eigentum    mittel   \n",
       "\n",
       "    Lohnkonto         Verwendungszweck  \n",
       "0      gering  Unterhaltungselektronik  \n",
       "1      mittel  Unterhaltungselektronik  \n",
       "2         NaN               Ausbildung  \n",
       "3      gering     Wohnungsreinrichtung  \n",
       "4      gering                 Fahrzeug  \n",
       "..        ...                      ...  \n",
       "992       NaN     Wohnungsreinrichtung  \n",
       "993    gering                 Fahrzeug  \n",
       "994       NaN  Unterhaltungselektronik  \n",
       "995    gering  Unterhaltungselektronik  \n",
       "996    mittel                 Fahrzeug  \n",
       "\n",
       "[997 rows x 6 columns]"
      ]
     },
     "execution_count": 13,
     "metadata": {},
     "output_type": "execute_result"
    }
   ],
   "source": [
    "df_X[cat_features]"
   ]
  },
  {
   "cell_type": "code",
   "execution_count": 14,
   "id": "dd4e5d65-ff39-4ea6-a496-532dd494ab47",
   "metadata": {},
   "outputs": [],
   "source": [
    "set_config(display=\"diagram\")"
   ]
  },
  {
   "cell_type": "code",
   "execution_count": 15,
   "id": "dfbb58bf-9c20-42e4-bc7c-420913bd6ac3",
   "metadata": {},
   "outputs": [],
   "source": [
    "cat_transformer = Pipeline(\n",
    "    steps=[\n",
    "        ('onehot', OneHotEncoder(handle_unknown='ignore',dtype='int')),\n",
    "        ('imputer', SimpleImputer(strategy=\"constant\", fill_value=-1))]\n",
    ")"
   ]
  },
  {
   "cell_type": "code",
   "execution_count": 16,
   "id": "06bf2277-844c-49af-af5d-f7aee5bc3083",
   "metadata": {},
   "outputs": [],
   "source": [
    "preprocessor = ColumnTransformer(transformers=[('cat', cat_transformer, cat_features)], remainder='passthrough', verbose_feature_names_out=False)"
   ]
  },
  {
   "cell_type": "code",
   "execution_count": 17,
   "id": "94d607a1-cfaa-46cc-b9ed-a9bc1d12bfb7",
   "metadata": {},
   "outputs": [
    {
     "data": {
      "text/html": [
       "<style>#sk-154ac1f8-2c02-490c-a8df-049964c1da80 {color: black;background-color: white;}#sk-154ac1f8-2c02-490c-a8df-049964c1da80 pre{padding: 0;}#sk-154ac1f8-2c02-490c-a8df-049964c1da80 div.sk-toggleable {background-color: white;}#sk-154ac1f8-2c02-490c-a8df-049964c1da80 label.sk-toggleable__label {cursor: pointer;display: block;width: 100%;margin-bottom: 0;padding: 0.3em;box-sizing: border-box;text-align: center;}#sk-154ac1f8-2c02-490c-a8df-049964c1da80 label.sk-toggleable__label-arrow:before {content: \"▸\";float: left;margin-right: 0.25em;color: #696969;}#sk-154ac1f8-2c02-490c-a8df-049964c1da80 label.sk-toggleable__label-arrow:hover:before {color: black;}#sk-154ac1f8-2c02-490c-a8df-049964c1da80 div.sk-estimator:hover label.sk-toggleable__label-arrow:before {color: black;}#sk-154ac1f8-2c02-490c-a8df-049964c1da80 div.sk-toggleable__content {max-height: 0;max-width: 0;overflow: hidden;text-align: left;background-color: #f0f8ff;}#sk-154ac1f8-2c02-490c-a8df-049964c1da80 div.sk-toggleable__content pre {margin: 0.2em;color: black;border-radius: 0.25em;background-color: #f0f8ff;}#sk-154ac1f8-2c02-490c-a8df-049964c1da80 input.sk-toggleable__control:checked~div.sk-toggleable__content {max-height: 200px;max-width: 100%;overflow: auto;}#sk-154ac1f8-2c02-490c-a8df-049964c1da80 input.sk-toggleable__control:checked~label.sk-toggleable__label-arrow:before {content: \"▾\";}#sk-154ac1f8-2c02-490c-a8df-049964c1da80 div.sk-estimator input.sk-toggleable__control:checked~label.sk-toggleable__label {background-color: #d4ebff;}#sk-154ac1f8-2c02-490c-a8df-049964c1da80 div.sk-label input.sk-toggleable__control:checked~label.sk-toggleable__label {background-color: #d4ebff;}#sk-154ac1f8-2c02-490c-a8df-049964c1da80 input.sk-hidden--visually {border: 0;clip: rect(1px 1px 1px 1px);clip: rect(1px, 1px, 1px, 1px);height: 1px;margin: -1px;overflow: hidden;padding: 0;position: absolute;width: 1px;}#sk-154ac1f8-2c02-490c-a8df-049964c1da80 div.sk-estimator {font-family: monospace;background-color: #f0f8ff;border: 1px dotted black;border-radius: 0.25em;box-sizing: border-box;margin-bottom: 0.5em;}#sk-154ac1f8-2c02-490c-a8df-049964c1da80 div.sk-estimator:hover {background-color: #d4ebff;}#sk-154ac1f8-2c02-490c-a8df-049964c1da80 div.sk-parallel-item::after {content: \"\";width: 100%;border-bottom: 1px solid gray;flex-grow: 1;}#sk-154ac1f8-2c02-490c-a8df-049964c1da80 div.sk-label:hover label.sk-toggleable__label {background-color: #d4ebff;}#sk-154ac1f8-2c02-490c-a8df-049964c1da80 div.sk-serial::before {content: \"\";position: absolute;border-left: 1px solid gray;box-sizing: border-box;top: 2em;bottom: 0;left: 50%;}#sk-154ac1f8-2c02-490c-a8df-049964c1da80 div.sk-serial {display: flex;flex-direction: column;align-items: center;background-color: white;padding-right: 0.2em;padding-left: 0.2em;}#sk-154ac1f8-2c02-490c-a8df-049964c1da80 div.sk-item {z-index: 1;}#sk-154ac1f8-2c02-490c-a8df-049964c1da80 div.sk-parallel {display: flex;align-items: stretch;justify-content: center;background-color: white;}#sk-154ac1f8-2c02-490c-a8df-049964c1da80 div.sk-parallel::before {content: \"\";position: absolute;border-left: 1px solid gray;box-sizing: border-box;top: 2em;bottom: 0;left: 50%;}#sk-154ac1f8-2c02-490c-a8df-049964c1da80 div.sk-parallel-item {display: flex;flex-direction: column;position: relative;background-color: white;}#sk-154ac1f8-2c02-490c-a8df-049964c1da80 div.sk-parallel-item:first-child::after {align-self: flex-end;width: 50%;}#sk-154ac1f8-2c02-490c-a8df-049964c1da80 div.sk-parallel-item:last-child::after {align-self: flex-start;width: 50%;}#sk-154ac1f8-2c02-490c-a8df-049964c1da80 div.sk-parallel-item:only-child::after {width: 0;}#sk-154ac1f8-2c02-490c-a8df-049964c1da80 div.sk-dashed-wrapped {border: 1px dashed gray;margin: 0 0.4em 0.5em 0.4em;box-sizing: border-box;padding-bottom: 0.4em;background-color: white;position: relative;}#sk-154ac1f8-2c02-490c-a8df-049964c1da80 div.sk-label label {font-family: monospace;font-weight: bold;background-color: white;display: inline-block;line-height: 1.2em;}#sk-154ac1f8-2c02-490c-a8df-049964c1da80 div.sk-label-container {position: relative;z-index: 2;text-align: center;}#sk-154ac1f8-2c02-490c-a8df-049964c1da80 div.sk-container {/* jupyter's `normalize.less` sets `[hidden] { display: none; }` but bootstrap.min.css set `[hidden] { display: none !important; }` so we also need the `!important` here to be able to override the default hidden behavior on the sphinx rendered scikit-learn.org. See: https://github.com/scikit-learn/scikit-learn/issues/21755 */display: inline-block !important;position: relative;}#sk-154ac1f8-2c02-490c-a8df-049964c1da80 div.sk-text-repr-fallback {display: none;}</style><div id=\"sk-154ac1f8-2c02-490c-a8df-049964c1da80\" class=\"sk-top-container\"><div class=\"sk-text-repr-fallback\"><pre>ColumnTransformer(remainder=&#x27;passthrough&#x27;,\n",
       "                  transformers=[(&#x27;cat&#x27;,\n",
       "                                 Pipeline(steps=[(&#x27;onehot&#x27;,\n",
       "                                                  OneHotEncoder(dtype=&#x27;int&#x27;,\n",
       "                                                                handle_unknown=&#x27;ignore&#x27;)),\n",
       "                                                 (&#x27;imputer&#x27;,\n",
       "                                                  SimpleImputer(fill_value=-1,\n",
       "                                                                strategy=&#x27;constant&#x27;))]),\n",
       "                                 [&#x27;Geschlecht&#x27;, &#x27;Arbeitsstelle&#x27;,\n",
       "                                  &#x27;Wohnsituation&#x27;, &#x27;Sparkonto&#x27;, &#x27;Lohnkonto&#x27;,\n",
       "                                  &#x27;Verwendungszweck&#x27;])],\n",
       "                  verbose_feature_names_out=False)</pre><b>Please rerun this cell to show the HTML repr or trust the notebook.</b></div><div class=\"sk-container\" hidden><div class=\"sk-item sk-dashed-wrapped\"><div class=\"sk-label-container\"><div class=\"sk-label sk-toggleable\"><input class=\"sk-toggleable__control sk-hidden--visually\" id=\"cf165aeb-37f3-4ca7-9a25-9b4c4b025509\" type=\"checkbox\" ><label for=\"cf165aeb-37f3-4ca7-9a25-9b4c4b025509\" class=\"sk-toggleable__label sk-toggleable__label-arrow\">ColumnTransformer</label><div class=\"sk-toggleable__content\"><pre>ColumnTransformer(remainder=&#x27;passthrough&#x27;,\n",
       "                  transformers=[(&#x27;cat&#x27;,\n",
       "                                 Pipeline(steps=[(&#x27;onehot&#x27;,\n",
       "                                                  OneHotEncoder(dtype=&#x27;int&#x27;,\n",
       "                                                                handle_unknown=&#x27;ignore&#x27;)),\n",
       "                                                 (&#x27;imputer&#x27;,\n",
       "                                                  SimpleImputer(fill_value=-1,\n",
       "                                                                strategy=&#x27;constant&#x27;))]),\n",
       "                                 [&#x27;Geschlecht&#x27;, &#x27;Arbeitsstelle&#x27;,\n",
       "                                  &#x27;Wohnsituation&#x27;, &#x27;Sparkonto&#x27;, &#x27;Lohnkonto&#x27;,\n",
       "                                  &#x27;Verwendungszweck&#x27;])],\n",
       "                  verbose_feature_names_out=False)</pre></div></div></div><div class=\"sk-parallel\"><div class=\"sk-parallel-item\"><div class=\"sk-item\"><div class=\"sk-label-container\"><div class=\"sk-label sk-toggleable\"><input class=\"sk-toggleable__control sk-hidden--visually\" id=\"cfc4ca43-76bc-418a-8d22-56daf1b60ef6\" type=\"checkbox\" ><label for=\"cfc4ca43-76bc-418a-8d22-56daf1b60ef6\" class=\"sk-toggleable__label sk-toggleable__label-arrow\">cat</label><div class=\"sk-toggleable__content\"><pre>[&#x27;Geschlecht&#x27;, &#x27;Arbeitsstelle&#x27;, &#x27;Wohnsituation&#x27;, &#x27;Sparkonto&#x27;, &#x27;Lohnkonto&#x27;, &#x27;Verwendungszweck&#x27;]</pre></div></div></div><div class=\"sk-serial\"><div class=\"sk-item\"><div class=\"sk-serial\"><div class=\"sk-item\"><div class=\"sk-estimator sk-toggleable\"><input class=\"sk-toggleable__control sk-hidden--visually\" id=\"fced8f78-465b-4835-af32-e392feb3a09c\" type=\"checkbox\" ><label for=\"fced8f78-465b-4835-af32-e392feb3a09c\" class=\"sk-toggleable__label sk-toggleable__label-arrow\">OneHotEncoder</label><div class=\"sk-toggleable__content\"><pre>OneHotEncoder(dtype=&#x27;int&#x27;, handle_unknown=&#x27;ignore&#x27;)</pre></div></div></div><div class=\"sk-item\"><div class=\"sk-estimator sk-toggleable\"><input class=\"sk-toggleable__control sk-hidden--visually\" id=\"c070e1da-75ef-49c1-b89a-f8ac800e2bbb\" type=\"checkbox\" ><label for=\"c070e1da-75ef-49c1-b89a-f8ac800e2bbb\" class=\"sk-toggleable__label sk-toggleable__label-arrow\">SimpleImputer</label><div class=\"sk-toggleable__content\"><pre>SimpleImputer(fill_value=-1, strategy=&#x27;constant&#x27;)</pre></div></div></div></div></div></div></div></div><div class=\"sk-parallel-item\"><div class=\"sk-item\"><div class=\"sk-label-container\"><div class=\"sk-label sk-toggleable\"><input class=\"sk-toggleable__control sk-hidden--visually\" id=\"a25eaf6e-ad88-4fee-9d09-74ad3f9a1028\" type=\"checkbox\" ><label for=\"a25eaf6e-ad88-4fee-9d09-74ad3f9a1028\" class=\"sk-toggleable__label sk-toggleable__label-arrow\">remainder</label><div class=\"sk-toggleable__content\"><pre></pre></div></div></div><div class=\"sk-serial\"><div class=\"sk-item\"><div class=\"sk-estimator sk-toggleable\"><input class=\"sk-toggleable__control sk-hidden--visually\" id=\"adbeaa05-8ec1-4c72-8417-b24a669d8ffe\" type=\"checkbox\" ><label for=\"adbeaa05-8ec1-4c72-8417-b24a669d8ffe\" class=\"sk-toggleable__label sk-toggleable__label-arrow\">passthrough</label><div class=\"sk-toggleable__content\"><pre>passthrough</pre></div></div></div></div></div></div></div></div></div></div>"
      ],
      "text/plain": [
       "ColumnTransformer(remainder='passthrough',\n",
       "                  transformers=[('cat',\n",
       "                                 Pipeline(steps=[('onehot',\n",
       "                                                  OneHotEncoder(dtype='int',\n",
       "                                                                handle_unknown='ignore')),\n",
       "                                                 ('imputer',\n",
       "                                                  SimpleImputer(fill_value=-1,\n",
       "                                                                strategy='constant'))]),\n",
       "                                 ['Geschlecht', 'Arbeitsstelle',\n",
       "                                  'Wohnsituation', 'Sparkonto', 'Lohnkonto',\n",
       "                                  'Verwendungszweck'])],\n",
       "                  verbose_feature_names_out=False)"
      ]
     },
     "execution_count": 17,
     "metadata": {},
     "output_type": "execute_result"
    }
   ],
   "source": [
    "preprocessor"
   ]
  },
  {
   "cell_type": "code",
   "execution_count": 18,
   "id": "cd6b1319-2cce-4b46-a3df-6f6703e6449c",
   "metadata": {},
   "outputs": [],
   "source": [
    "clf = Pipeline(\n",
    "    steps=[(\"preprocessor\", preprocessor),\n",
    "           (\"classifier\", LogisticRegression(max_iter=10000))\n",
    "          ]\n",
    ")"
   ]
  },
  {
   "cell_type": "code",
   "execution_count": 19,
   "id": "b13cd787-e4a5-4362-a12b-b7dd70c292c6",
   "metadata": {},
   "outputs": [
    {
     "data": {
      "text/html": [
       "<style>#sk-8d6d7603-c72d-4e02-8b1e-785a78f50eca {color: black;background-color: white;}#sk-8d6d7603-c72d-4e02-8b1e-785a78f50eca pre{padding: 0;}#sk-8d6d7603-c72d-4e02-8b1e-785a78f50eca div.sk-toggleable {background-color: white;}#sk-8d6d7603-c72d-4e02-8b1e-785a78f50eca label.sk-toggleable__label {cursor: pointer;display: block;width: 100%;margin-bottom: 0;padding: 0.3em;box-sizing: border-box;text-align: center;}#sk-8d6d7603-c72d-4e02-8b1e-785a78f50eca label.sk-toggleable__label-arrow:before {content: \"▸\";float: left;margin-right: 0.25em;color: #696969;}#sk-8d6d7603-c72d-4e02-8b1e-785a78f50eca label.sk-toggleable__label-arrow:hover:before {color: black;}#sk-8d6d7603-c72d-4e02-8b1e-785a78f50eca div.sk-estimator:hover label.sk-toggleable__label-arrow:before {color: black;}#sk-8d6d7603-c72d-4e02-8b1e-785a78f50eca div.sk-toggleable__content {max-height: 0;max-width: 0;overflow: hidden;text-align: left;background-color: #f0f8ff;}#sk-8d6d7603-c72d-4e02-8b1e-785a78f50eca div.sk-toggleable__content pre {margin: 0.2em;color: black;border-radius: 0.25em;background-color: #f0f8ff;}#sk-8d6d7603-c72d-4e02-8b1e-785a78f50eca input.sk-toggleable__control:checked~div.sk-toggleable__content {max-height: 200px;max-width: 100%;overflow: auto;}#sk-8d6d7603-c72d-4e02-8b1e-785a78f50eca input.sk-toggleable__control:checked~label.sk-toggleable__label-arrow:before {content: \"▾\";}#sk-8d6d7603-c72d-4e02-8b1e-785a78f50eca div.sk-estimator input.sk-toggleable__control:checked~label.sk-toggleable__label {background-color: #d4ebff;}#sk-8d6d7603-c72d-4e02-8b1e-785a78f50eca div.sk-label input.sk-toggleable__control:checked~label.sk-toggleable__label {background-color: #d4ebff;}#sk-8d6d7603-c72d-4e02-8b1e-785a78f50eca input.sk-hidden--visually {border: 0;clip: rect(1px 1px 1px 1px);clip: rect(1px, 1px, 1px, 1px);height: 1px;margin: -1px;overflow: hidden;padding: 0;position: absolute;width: 1px;}#sk-8d6d7603-c72d-4e02-8b1e-785a78f50eca div.sk-estimator {font-family: monospace;background-color: #f0f8ff;border: 1px dotted black;border-radius: 0.25em;box-sizing: border-box;margin-bottom: 0.5em;}#sk-8d6d7603-c72d-4e02-8b1e-785a78f50eca div.sk-estimator:hover {background-color: #d4ebff;}#sk-8d6d7603-c72d-4e02-8b1e-785a78f50eca div.sk-parallel-item::after {content: \"\";width: 100%;border-bottom: 1px solid gray;flex-grow: 1;}#sk-8d6d7603-c72d-4e02-8b1e-785a78f50eca div.sk-label:hover label.sk-toggleable__label {background-color: #d4ebff;}#sk-8d6d7603-c72d-4e02-8b1e-785a78f50eca div.sk-serial::before {content: \"\";position: absolute;border-left: 1px solid gray;box-sizing: border-box;top: 2em;bottom: 0;left: 50%;}#sk-8d6d7603-c72d-4e02-8b1e-785a78f50eca div.sk-serial {display: flex;flex-direction: column;align-items: center;background-color: white;padding-right: 0.2em;padding-left: 0.2em;}#sk-8d6d7603-c72d-4e02-8b1e-785a78f50eca div.sk-item {z-index: 1;}#sk-8d6d7603-c72d-4e02-8b1e-785a78f50eca div.sk-parallel {display: flex;align-items: stretch;justify-content: center;background-color: white;}#sk-8d6d7603-c72d-4e02-8b1e-785a78f50eca div.sk-parallel::before {content: \"\";position: absolute;border-left: 1px solid gray;box-sizing: border-box;top: 2em;bottom: 0;left: 50%;}#sk-8d6d7603-c72d-4e02-8b1e-785a78f50eca div.sk-parallel-item {display: flex;flex-direction: column;position: relative;background-color: white;}#sk-8d6d7603-c72d-4e02-8b1e-785a78f50eca div.sk-parallel-item:first-child::after {align-self: flex-end;width: 50%;}#sk-8d6d7603-c72d-4e02-8b1e-785a78f50eca div.sk-parallel-item:last-child::after {align-self: flex-start;width: 50%;}#sk-8d6d7603-c72d-4e02-8b1e-785a78f50eca div.sk-parallel-item:only-child::after {width: 0;}#sk-8d6d7603-c72d-4e02-8b1e-785a78f50eca div.sk-dashed-wrapped {border: 1px dashed gray;margin: 0 0.4em 0.5em 0.4em;box-sizing: border-box;padding-bottom: 0.4em;background-color: white;position: relative;}#sk-8d6d7603-c72d-4e02-8b1e-785a78f50eca div.sk-label label {font-family: monospace;font-weight: bold;background-color: white;display: inline-block;line-height: 1.2em;}#sk-8d6d7603-c72d-4e02-8b1e-785a78f50eca div.sk-label-container {position: relative;z-index: 2;text-align: center;}#sk-8d6d7603-c72d-4e02-8b1e-785a78f50eca div.sk-container {/* jupyter's `normalize.less` sets `[hidden] { display: none; }` but bootstrap.min.css set `[hidden] { display: none !important; }` so we also need the `!important` here to be able to override the default hidden behavior on the sphinx rendered scikit-learn.org. See: https://github.com/scikit-learn/scikit-learn/issues/21755 */display: inline-block !important;position: relative;}#sk-8d6d7603-c72d-4e02-8b1e-785a78f50eca div.sk-text-repr-fallback {display: none;}</style><div id=\"sk-8d6d7603-c72d-4e02-8b1e-785a78f50eca\" class=\"sk-top-container\"><div class=\"sk-text-repr-fallback\"><pre>Pipeline(steps=[(&#x27;preprocessor&#x27;,\n",
       "                 ColumnTransformer(remainder=&#x27;passthrough&#x27;,\n",
       "                                   transformers=[(&#x27;cat&#x27;,\n",
       "                                                  Pipeline(steps=[(&#x27;onehot&#x27;,\n",
       "                                                                   OneHotEncoder(dtype=&#x27;int&#x27;,\n",
       "                                                                                 handle_unknown=&#x27;ignore&#x27;)),\n",
       "                                                                  (&#x27;imputer&#x27;,\n",
       "                                                                   SimpleImputer(fill_value=-1,\n",
       "                                                                                 strategy=&#x27;constant&#x27;))]),\n",
       "                                                  [&#x27;Geschlecht&#x27;,\n",
       "                                                   &#x27;Arbeitsstelle&#x27;,\n",
       "                                                   &#x27;Wohnsituation&#x27;, &#x27;Sparkonto&#x27;,\n",
       "                                                   &#x27;Lohnkonto&#x27;,\n",
       "                                                   &#x27;Verwendungszweck&#x27;])],\n",
       "                                   verbose_feature_names_out=False)),\n",
       "                (&#x27;classifier&#x27;, LogisticRegression(max_iter=10000))])</pre><b>Please rerun this cell to show the HTML repr or trust the notebook.</b></div><div class=\"sk-container\" hidden><div class=\"sk-item sk-dashed-wrapped\"><div class=\"sk-label-container\"><div class=\"sk-label sk-toggleable\"><input class=\"sk-toggleable__control sk-hidden--visually\" id=\"15f6a3a3-e727-4e7e-87a2-89f0b9136430\" type=\"checkbox\" ><label for=\"15f6a3a3-e727-4e7e-87a2-89f0b9136430\" class=\"sk-toggleable__label sk-toggleable__label-arrow\">Pipeline</label><div class=\"sk-toggleable__content\"><pre>Pipeline(steps=[(&#x27;preprocessor&#x27;,\n",
       "                 ColumnTransformer(remainder=&#x27;passthrough&#x27;,\n",
       "                                   transformers=[(&#x27;cat&#x27;,\n",
       "                                                  Pipeline(steps=[(&#x27;onehot&#x27;,\n",
       "                                                                   OneHotEncoder(dtype=&#x27;int&#x27;,\n",
       "                                                                                 handle_unknown=&#x27;ignore&#x27;)),\n",
       "                                                                  (&#x27;imputer&#x27;,\n",
       "                                                                   SimpleImputer(fill_value=-1,\n",
       "                                                                                 strategy=&#x27;constant&#x27;))]),\n",
       "                                                  [&#x27;Geschlecht&#x27;,\n",
       "                                                   &#x27;Arbeitsstelle&#x27;,\n",
       "                                                   &#x27;Wohnsituation&#x27;, &#x27;Sparkonto&#x27;,\n",
       "                                                   &#x27;Lohnkonto&#x27;,\n",
       "                                                   &#x27;Verwendungszweck&#x27;])],\n",
       "                                   verbose_feature_names_out=False)),\n",
       "                (&#x27;classifier&#x27;, LogisticRegression(max_iter=10000))])</pre></div></div></div><div class=\"sk-serial\"><div class=\"sk-item sk-dashed-wrapped\"><div class=\"sk-label-container\"><div class=\"sk-label sk-toggleable\"><input class=\"sk-toggleable__control sk-hidden--visually\" id=\"01a86534-599b-4701-951e-374bf161bf71\" type=\"checkbox\" ><label for=\"01a86534-599b-4701-951e-374bf161bf71\" class=\"sk-toggleable__label sk-toggleable__label-arrow\">preprocessor: ColumnTransformer</label><div class=\"sk-toggleable__content\"><pre>ColumnTransformer(remainder=&#x27;passthrough&#x27;,\n",
       "                  transformers=[(&#x27;cat&#x27;,\n",
       "                                 Pipeline(steps=[(&#x27;onehot&#x27;,\n",
       "                                                  OneHotEncoder(dtype=&#x27;int&#x27;,\n",
       "                                                                handle_unknown=&#x27;ignore&#x27;)),\n",
       "                                                 (&#x27;imputer&#x27;,\n",
       "                                                  SimpleImputer(fill_value=-1,\n",
       "                                                                strategy=&#x27;constant&#x27;))]),\n",
       "                                 [&#x27;Geschlecht&#x27;, &#x27;Arbeitsstelle&#x27;,\n",
       "                                  &#x27;Wohnsituation&#x27;, &#x27;Sparkonto&#x27;, &#x27;Lohnkonto&#x27;,\n",
       "                                  &#x27;Verwendungszweck&#x27;])],\n",
       "                  verbose_feature_names_out=False)</pre></div></div></div><div class=\"sk-parallel\"><div class=\"sk-parallel-item\"><div class=\"sk-item\"><div class=\"sk-label-container\"><div class=\"sk-label sk-toggleable\"><input class=\"sk-toggleable__control sk-hidden--visually\" id=\"84c9c78d-ec7d-4b4a-b574-2aa057739441\" type=\"checkbox\" ><label for=\"84c9c78d-ec7d-4b4a-b574-2aa057739441\" class=\"sk-toggleable__label sk-toggleable__label-arrow\">cat</label><div class=\"sk-toggleable__content\"><pre>[&#x27;Geschlecht&#x27;, &#x27;Arbeitsstelle&#x27;, &#x27;Wohnsituation&#x27;, &#x27;Sparkonto&#x27;, &#x27;Lohnkonto&#x27;, &#x27;Verwendungszweck&#x27;]</pre></div></div></div><div class=\"sk-serial\"><div class=\"sk-item\"><div class=\"sk-serial\"><div class=\"sk-item\"><div class=\"sk-estimator sk-toggleable\"><input class=\"sk-toggleable__control sk-hidden--visually\" id=\"2a64642c-c2f9-4525-b922-c1853a420a1f\" type=\"checkbox\" ><label for=\"2a64642c-c2f9-4525-b922-c1853a420a1f\" class=\"sk-toggleable__label sk-toggleable__label-arrow\">OneHotEncoder</label><div class=\"sk-toggleable__content\"><pre>OneHotEncoder(dtype=&#x27;int&#x27;, handle_unknown=&#x27;ignore&#x27;)</pre></div></div></div><div class=\"sk-item\"><div class=\"sk-estimator sk-toggleable\"><input class=\"sk-toggleable__control sk-hidden--visually\" id=\"18743e12-07d5-4a38-bcee-93a12feb6f5e\" type=\"checkbox\" ><label for=\"18743e12-07d5-4a38-bcee-93a12feb6f5e\" class=\"sk-toggleable__label sk-toggleable__label-arrow\">SimpleImputer</label><div class=\"sk-toggleable__content\"><pre>SimpleImputer(fill_value=-1, strategy=&#x27;constant&#x27;)</pre></div></div></div></div></div></div></div></div><div class=\"sk-parallel-item\"><div class=\"sk-item\"><div class=\"sk-label-container\"><div class=\"sk-label sk-toggleable\"><input class=\"sk-toggleable__control sk-hidden--visually\" id=\"c659ac23-66b5-4bf6-91bd-c6ec94360e9f\" type=\"checkbox\" ><label for=\"c659ac23-66b5-4bf6-91bd-c6ec94360e9f\" class=\"sk-toggleable__label sk-toggleable__label-arrow\">remainder</label><div class=\"sk-toggleable__content\"><pre></pre></div></div></div><div class=\"sk-serial\"><div class=\"sk-item\"><div class=\"sk-estimator sk-toggleable\"><input class=\"sk-toggleable__control sk-hidden--visually\" id=\"5e962f95-7254-4c2b-9d5b-3e5a58e6197c\" type=\"checkbox\" ><label for=\"5e962f95-7254-4c2b-9d5b-3e5a58e6197c\" class=\"sk-toggleable__label sk-toggleable__label-arrow\">passthrough</label><div class=\"sk-toggleable__content\"><pre>passthrough</pre></div></div></div></div></div></div></div></div><div class=\"sk-item\"><div class=\"sk-estimator sk-toggleable\"><input class=\"sk-toggleable__control sk-hidden--visually\" id=\"8d74cc46-f4a6-4c35-85de-2fa275bfd29f\" type=\"checkbox\" ><label for=\"8d74cc46-f4a6-4c35-85de-2fa275bfd29f\" class=\"sk-toggleable__label sk-toggleable__label-arrow\">LogisticRegression</label><div class=\"sk-toggleable__content\"><pre>LogisticRegression(max_iter=10000)</pre></div></div></div></div></div></div></div>"
      ],
      "text/plain": [
       "Pipeline(steps=[('preprocessor',\n",
       "                 ColumnTransformer(remainder='passthrough',\n",
       "                                   transformers=[('cat',\n",
       "                                                  Pipeline(steps=[('onehot',\n",
       "                                                                   OneHotEncoder(dtype='int',\n",
       "                                                                                 handle_unknown='ignore')),\n",
       "                                                                  ('imputer',\n",
       "                                                                   SimpleImputer(fill_value=-1,\n",
       "                                                                                 strategy='constant'))]),\n",
       "                                                  ['Geschlecht',\n",
       "                                                   'Arbeitsstelle',\n",
       "                                                   'Wohnsituation', 'Sparkonto',\n",
       "                                                   'Lohnkonto',\n",
       "                                                   'Verwendungszweck'])],\n",
       "                                   verbose_feature_names_out=False)),\n",
       "                ('classifier', LogisticRegression(max_iter=10000))])"
      ]
     },
     "execution_count": 19,
     "metadata": {},
     "output_type": "execute_result"
    }
   ],
   "source": [
    "clf"
   ]
  },
  {
   "cell_type": "code",
   "execution_count": 20,
   "id": "b53087b5-e15d-44d4-8774-90fc9ebcb64a",
   "metadata": {},
   "outputs": [],
   "source": [
    "X_train, X_test, y_train, y_test = train_test_split(df_X, y, test_size=0.2, random_state=42)"
   ]
  },
  {
   "cell_type": "code",
   "execution_count": 21,
   "id": "7850adc5-37ba-42fc-b84e-94aae34562a6",
   "metadata": {},
   "outputs": [
    {
     "name": "stdout",
     "output_type": "stream",
     "text": [
      "model score: 0.730\n"
     ]
    }
   ],
   "source": [
    "clf.fit(X_train, y_train)\n",
    "print(\"model score: %.3f\" % clf.score(X_test, y_test))"
   ]
  },
  {
   "cell_type": "code",
   "execution_count": 22,
   "id": "ec820cec-e3e9-4f9d-b3e7-ce17d3d80b3a",
   "metadata": {},
   "outputs": [
    {
     "data": {
      "text/plain": [
       "array([[    0,     1,     0, ...,    67,  5076,     6],\n",
       "       [    1,     0,     0, ...,    22, 25840,    48],\n",
       "       [    0,     1,     0, ...,    49,  9101,    12],\n",
       "       ...,\n",
       "       [    0,     1,     0, ...,    38,  3491,    12],\n",
       "       [    0,     1,     0, ...,    23,  8011,    45],\n",
       "       [    0,     1,     0, ...,    27, 19869,    45]], dtype=int64)"
      ]
     },
     "execution_count": 22,
     "metadata": {},
     "output_type": "execute_result"
    }
   ],
   "source": [
    "clf.named_steps['preprocessor'].transform(df_X)"
   ]
  },
  {
   "cell_type": "code",
   "execution_count": 24,
   "id": "3835929e-3361-470b-a7ec-46fa711ff308",
   "metadata": {},
   "outputs": [
    {
     "data": {
      "text/html": [
       "<style>#sk-1b0e9a1a-58cd-4bf7-ae8f-9695883f632a {color: black;background-color: white;}#sk-1b0e9a1a-58cd-4bf7-ae8f-9695883f632a pre{padding: 0;}#sk-1b0e9a1a-58cd-4bf7-ae8f-9695883f632a div.sk-toggleable {background-color: white;}#sk-1b0e9a1a-58cd-4bf7-ae8f-9695883f632a label.sk-toggleable__label {cursor: pointer;display: block;width: 100%;margin-bottom: 0;padding: 0.3em;box-sizing: border-box;text-align: center;}#sk-1b0e9a1a-58cd-4bf7-ae8f-9695883f632a label.sk-toggleable__label-arrow:before {content: \"▸\";float: left;margin-right: 0.25em;color: #696969;}#sk-1b0e9a1a-58cd-4bf7-ae8f-9695883f632a label.sk-toggleable__label-arrow:hover:before {color: black;}#sk-1b0e9a1a-58cd-4bf7-ae8f-9695883f632a div.sk-estimator:hover label.sk-toggleable__label-arrow:before {color: black;}#sk-1b0e9a1a-58cd-4bf7-ae8f-9695883f632a div.sk-toggleable__content {max-height: 0;max-width: 0;overflow: hidden;text-align: left;background-color: #f0f8ff;}#sk-1b0e9a1a-58cd-4bf7-ae8f-9695883f632a div.sk-toggleable__content pre {margin: 0.2em;color: black;border-radius: 0.25em;background-color: #f0f8ff;}#sk-1b0e9a1a-58cd-4bf7-ae8f-9695883f632a input.sk-toggleable__control:checked~div.sk-toggleable__content {max-height: 200px;max-width: 100%;overflow: auto;}#sk-1b0e9a1a-58cd-4bf7-ae8f-9695883f632a input.sk-toggleable__control:checked~label.sk-toggleable__label-arrow:before {content: \"▾\";}#sk-1b0e9a1a-58cd-4bf7-ae8f-9695883f632a div.sk-estimator input.sk-toggleable__control:checked~label.sk-toggleable__label {background-color: #d4ebff;}#sk-1b0e9a1a-58cd-4bf7-ae8f-9695883f632a div.sk-label input.sk-toggleable__control:checked~label.sk-toggleable__label {background-color: #d4ebff;}#sk-1b0e9a1a-58cd-4bf7-ae8f-9695883f632a input.sk-hidden--visually {border: 0;clip: rect(1px 1px 1px 1px);clip: rect(1px, 1px, 1px, 1px);height: 1px;margin: -1px;overflow: hidden;padding: 0;position: absolute;width: 1px;}#sk-1b0e9a1a-58cd-4bf7-ae8f-9695883f632a div.sk-estimator {font-family: monospace;background-color: #f0f8ff;border: 1px dotted black;border-radius: 0.25em;box-sizing: border-box;margin-bottom: 0.5em;}#sk-1b0e9a1a-58cd-4bf7-ae8f-9695883f632a div.sk-estimator:hover {background-color: #d4ebff;}#sk-1b0e9a1a-58cd-4bf7-ae8f-9695883f632a div.sk-parallel-item::after {content: \"\";width: 100%;border-bottom: 1px solid gray;flex-grow: 1;}#sk-1b0e9a1a-58cd-4bf7-ae8f-9695883f632a div.sk-label:hover label.sk-toggleable__label {background-color: #d4ebff;}#sk-1b0e9a1a-58cd-4bf7-ae8f-9695883f632a div.sk-serial::before {content: \"\";position: absolute;border-left: 1px solid gray;box-sizing: border-box;top: 2em;bottom: 0;left: 50%;}#sk-1b0e9a1a-58cd-4bf7-ae8f-9695883f632a div.sk-serial {display: flex;flex-direction: column;align-items: center;background-color: white;padding-right: 0.2em;padding-left: 0.2em;}#sk-1b0e9a1a-58cd-4bf7-ae8f-9695883f632a div.sk-item {z-index: 1;}#sk-1b0e9a1a-58cd-4bf7-ae8f-9695883f632a div.sk-parallel {display: flex;align-items: stretch;justify-content: center;background-color: white;}#sk-1b0e9a1a-58cd-4bf7-ae8f-9695883f632a div.sk-parallel::before {content: \"\";position: absolute;border-left: 1px solid gray;box-sizing: border-box;top: 2em;bottom: 0;left: 50%;}#sk-1b0e9a1a-58cd-4bf7-ae8f-9695883f632a div.sk-parallel-item {display: flex;flex-direction: column;position: relative;background-color: white;}#sk-1b0e9a1a-58cd-4bf7-ae8f-9695883f632a div.sk-parallel-item:first-child::after {align-self: flex-end;width: 50%;}#sk-1b0e9a1a-58cd-4bf7-ae8f-9695883f632a div.sk-parallel-item:last-child::after {align-self: flex-start;width: 50%;}#sk-1b0e9a1a-58cd-4bf7-ae8f-9695883f632a div.sk-parallel-item:only-child::after {width: 0;}#sk-1b0e9a1a-58cd-4bf7-ae8f-9695883f632a div.sk-dashed-wrapped {border: 1px dashed gray;margin: 0 0.4em 0.5em 0.4em;box-sizing: border-box;padding-bottom: 0.4em;background-color: white;position: relative;}#sk-1b0e9a1a-58cd-4bf7-ae8f-9695883f632a div.sk-label label {font-family: monospace;font-weight: bold;background-color: white;display: inline-block;line-height: 1.2em;}#sk-1b0e9a1a-58cd-4bf7-ae8f-9695883f632a div.sk-label-container {position: relative;z-index: 2;text-align: center;}#sk-1b0e9a1a-58cd-4bf7-ae8f-9695883f632a div.sk-container {/* jupyter's `normalize.less` sets `[hidden] { display: none; }` but bootstrap.min.css set `[hidden] { display: none !important; }` so we also need the `!important` here to be able to override the default hidden behavior on the sphinx rendered scikit-learn.org. See: https://github.com/scikit-learn/scikit-learn/issues/21755 */display: inline-block !important;position: relative;}#sk-1b0e9a1a-58cd-4bf7-ae8f-9695883f632a div.sk-text-repr-fallback {display: none;}</style><div id=\"sk-1b0e9a1a-58cd-4bf7-ae8f-9695883f632a\" class=\"sk-top-container\"><div class=\"sk-text-repr-fallback\"><pre>ColumnTransformer(remainder=&#x27;passthrough&#x27;,\n",
       "                  transformers=[(&#x27;cat&#x27;,\n",
       "                                 Pipeline(steps=[(&#x27;onehot&#x27;,\n",
       "                                                  OneHotEncoder(dtype=&#x27;int&#x27;,\n",
       "                                                                handle_unknown=&#x27;ignore&#x27;)),\n",
       "                                                 (&#x27;imputer&#x27;,\n",
       "                                                  SimpleImputer(fill_value=-1,\n",
       "                                                                strategy=&#x27;constant&#x27;))]),\n",
       "                                 [&#x27;Geschlecht&#x27;, &#x27;Arbeitsstelle&#x27;,\n",
       "                                  &#x27;Wohnsituation&#x27;, &#x27;Sparkonto&#x27;, &#x27;Lohnkonto&#x27;,\n",
       "                                  &#x27;Verwendungszweck&#x27;])],\n",
       "                  verbose_feature_names_out=False)</pre><b>Please rerun this cell to show the HTML repr or trust the notebook.</b></div><div class=\"sk-container\" hidden><div class=\"sk-item sk-dashed-wrapped\"><div class=\"sk-label-container\"><div class=\"sk-label sk-toggleable\"><input class=\"sk-toggleable__control sk-hidden--visually\" id=\"768b7111-5415-457e-a9a7-8e703cb9cc61\" type=\"checkbox\" ><label for=\"768b7111-5415-457e-a9a7-8e703cb9cc61\" class=\"sk-toggleable__label sk-toggleable__label-arrow\">ColumnTransformer</label><div class=\"sk-toggleable__content\"><pre>ColumnTransformer(remainder=&#x27;passthrough&#x27;,\n",
       "                  transformers=[(&#x27;cat&#x27;,\n",
       "                                 Pipeline(steps=[(&#x27;onehot&#x27;,\n",
       "                                                  OneHotEncoder(dtype=&#x27;int&#x27;,\n",
       "                                                                handle_unknown=&#x27;ignore&#x27;)),\n",
       "                                                 (&#x27;imputer&#x27;,\n",
       "                                                  SimpleImputer(fill_value=-1,\n",
       "                                                                strategy=&#x27;constant&#x27;))]),\n",
       "                                 [&#x27;Geschlecht&#x27;, &#x27;Arbeitsstelle&#x27;,\n",
       "                                  &#x27;Wohnsituation&#x27;, &#x27;Sparkonto&#x27;, &#x27;Lohnkonto&#x27;,\n",
       "                                  &#x27;Verwendungszweck&#x27;])],\n",
       "                  verbose_feature_names_out=False)</pre></div></div></div><div class=\"sk-parallel\"><div class=\"sk-parallel-item\"><div class=\"sk-item\"><div class=\"sk-label-container\"><div class=\"sk-label sk-toggleable\"><input class=\"sk-toggleable__control sk-hidden--visually\" id=\"d79b9b06-3fb7-405b-aeb1-7d1e7a4bbbff\" type=\"checkbox\" ><label for=\"d79b9b06-3fb7-405b-aeb1-7d1e7a4bbbff\" class=\"sk-toggleable__label sk-toggleable__label-arrow\">cat</label><div class=\"sk-toggleable__content\"><pre>[&#x27;Geschlecht&#x27;, &#x27;Arbeitsstelle&#x27;, &#x27;Wohnsituation&#x27;, &#x27;Sparkonto&#x27;, &#x27;Lohnkonto&#x27;, &#x27;Verwendungszweck&#x27;]</pre></div></div></div><div class=\"sk-serial\"><div class=\"sk-item\"><div class=\"sk-serial\"><div class=\"sk-item\"><div class=\"sk-estimator sk-toggleable\"><input class=\"sk-toggleable__control sk-hidden--visually\" id=\"05f55c81-2f54-47e3-b256-d9dceaa74d99\" type=\"checkbox\" ><label for=\"05f55c81-2f54-47e3-b256-d9dceaa74d99\" class=\"sk-toggleable__label sk-toggleable__label-arrow\">OneHotEncoder</label><div class=\"sk-toggleable__content\"><pre>OneHotEncoder(dtype=&#x27;int&#x27;, handle_unknown=&#x27;ignore&#x27;)</pre></div></div></div><div class=\"sk-item\"><div class=\"sk-estimator sk-toggleable\"><input class=\"sk-toggleable__control sk-hidden--visually\" id=\"26a43c8c-6a63-417f-b9d1-0d616bc01fd1\" type=\"checkbox\" ><label for=\"26a43c8c-6a63-417f-b9d1-0d616bc01fd1\" class=\"sk-toggleable__label sk-toggleable__label-arrow\">SimpleImputer</label><div class=\"sk-toggleable__content\"><pre>SimpleImputer(fill_value=-1, strategy=&#x27;constant&#x27;)</pre></div></div></div></div></div></div></div></div><div class=\"sk-parallel-item\"><div class=\"sk-item\"><div class=\"sk-label-container\"><div class=\"sk-label sk-toggleable\"><input class=\"sk-toggleable__control sk-hidden--visually\" id=\"217cb943-1a4d-4687-a9b5-399131b0cb1e\" type=\"checkbox\" ><label for=\"217cb943-1a4d-4687-a9b5-399131b0cb1e\" class=\"sk-toggleable__label sk-toggleable__label-arrow\">remainder</label><div class=\"sk-toggleable__content\"><pre>[&#x27;Alter&#x27;, &#x27;Kreditbetrag&#x27;, &#x27;Laufzeit&#x27;]</pre></div></div></div><div class=\"sk-serial\"><div class=\"sk-item\"><div class=\"sk-estimator sk-toggleable\"><input class=\"sk-toggleable__control sk-hidden--visually\" id=\"fc5ffd85-3013-4f66-afd6-fc00978b146d\" type=\"checkbox\" ><label for=\"fc5ffd85-3013-4f66-afd6-fc00978b146d\" class=\"sk-toggleable__label sk-toggleable__label-arrow\">passthrough</label><div class=\"sk-toggleable__content\"><pre>passthrough</pre></div></div></div></div></div></div></div></div></div></div>"
      ],
      "text/plain": [
       "ColumnTransformer(remainder='passthrough',\n",
       "                  transformers=[('cat',\n",
       "                                 Pipeline(steps=[('onehot',\n",
       "                                                  OneHotEncoder(dtype='int',\n",
       "                                                                handle_unknown='ignore')),\n",
       "                                                 ('imputer',\n",
       "                                                  SimpleImputer(fill_value=-1,\n",
       "                                                                strategy='constant'))]),\n",
       "                                 ['Geschlecht', 'Arbeitsstelle',\n",
       "                                  'Wohnsituation', 'Sparkonto', 'Lohnkonto',\n",
       "                                  'Verwendungszweck'])],\n",
       "                  verbose_feature_names_out=False)"
      ]
     },
     "execution_count": 24,
     "metadata": {},
     "output_type": "execute_result"
    }
   ],
   "source": [
    "clf.named_steps['preprocessor']"
   ]
  },
  {
   "cell_type": "code",
   "execution_count": 25,
   "id": "e262076e-75ac-45d5-b739-779c75be7f99",
   "metadata": {},
   "outputs": [
    {
     "data": {
      "text/plain": [
       "Index(['Alter', 'Geschlecht', 'Arbeitsstelle', 'Wohnsituation', 'Sparkonto',\n",
       "       'Lohnkonto', 'Kreditbetrag', 'Laufzeit', 'Verwendungszweck'],\n",
       "      dtype='object')"
      ]
     },
     "execution_count": 25,
     "metadata": {},
     "output_type": "execute_result"
    }
   ],
   "source": [
    "df_X.columns"
   ]
  },
  {
   "cell_type": "code",
   "execution_count": 26,
   "id": "62b893b0-19ee-4157-8017-83655e2200b7",
   "metadata": {},
   "outputs": [],
   "source": [
    "data=[{'Alter': 67, 'Geschlecht': 'weiblich', 'Arbeitsstelle': 'mittlere Qualifikation', 'Wohnsituation': 'Eigentum', 'Sparkonto': pd.NA, 'Lohnkonto': 'gering', 'Kreditbetrag': 5076, 'Laufzeit': 6, 'Verwendungszweck': 'Unterhaltungselektronik'}]"
   ]
  },
  {
   "cell_type": "code",
   "execution_count": 27,
   "id": "bd36cfee-db9e-4a7a-a556-95077688c0b1",
   "metadata": {},
   "outputs": [
    {
     "data": {
      "text/plain": [
       "array([[   0,    1,    0,    1,    0,    0,    1,    0,    0,    0,    0,\n",
       "           0,    0,    0,    1,    0,    0,    0,    0,    0,    0,    0,\n",
       "           0,    0,    1,    0,   67, 5076,    6]], dtype=int64)"
      ]
     },
     "execution_count": 27,
     "metadata": {},
     "output_type": "execute_result"
    }
   ],
   "source": [
    "clf.named_steps['preprocessor'].transform(pd.DataFrame.from_records(data))"
   ]
  },
  {
   "cell_type": "code",
   "execution_count": 28,
   "id": "cdcae787-9357-4928-bf0b-50d2b0488c73",
   "metadata": {},
   "outputs": [
    {
     "data": {
      "text/plain": [
       "array([[   0,    1,    0,    1,    0,    0,    1,    0,    0,    0,    0,\n",
       "           0,    0,    1,    1,    0,    0,    0,    0,    0,    0,    0,\n",
       "           0,    0,    1,    0,   67, 5076,    6]], dtype=int64)"
      ]
     },
     "execution_count": 28,
     "metadata": {},
     "output_type": "execute_result"
    }
   ],
   "source": [
    "clf.named_steps['preprocessor'].transform(df_X.loc[:0])"
   ]
  },
  {
   "cell_type": "code",
   "execution_count": 29,
   "id": "461eead7-66b0-44b9-85c9-b6d5c1494892",
   "metadata": {},
   "outputs": [
    {
     "data": {
      "text/plain": [
       "array(['Geschlecht', 'Arbeitsstelle', 'Wohnsituation', 'Sparkonto',\n",
       "       'Lohnkonto', 'Verwendungszweck'], dtype=object)"
      ]
     },
     "execution_count": 29,
     "metadata": {},
     "output_type": "execute_result"
    }
   ],
   "source": [
    "clf.named_steps['preprocessor'].named_transformers_['cat'].named_steps['onehot'].feature_names_in_ #.named_features['onehot']"
   ]
  },
  {
   "cell_type": "code",
   "execution_count": 30,
   "id": "9c03c819-18ed-4ee5-8e95-ab2c7b1401d8",
   "metadata": {},
   "outputs": [
    {
     "data": {
      "text/plain": [
       "[array(['männlich', 'weiblich'], dtype=object),\n",
       " array(['hohe Qualifikation', 'mittlere Qualifikation',\n",
       "        'niedrige Qualifikation - permanent',\n",
       "        'niedrige Qualifikation - temporär'], dtype=object),\n",
       " array(['Eigentum', 'Miete', 'kostenlos'], dtype=object),\n",
       " array(['gering', 'hoch', 'mittel', 'sehr hoch', nan], dtype=object),\n",
       " array(['gering', 'hoch', 'mittel', nan], dtype=object),\n",
       " array(['Ausbildung', 'Fahrzeug', 'Ferien/andere', 'Geschäft',\n",
       "        'Haushaltsgeräte', 'Unterhalt', 'Unterhaltungselektronik',\n",
       "        'Wohnungsreinrichtung'], dtype=object)]"
      ]
     },
     "execution_count": 30,
     "metadata": {},
     "output_type": "execute_result"
    }
   ],
   "source": [
    "clf.named_steps['preprocessor'].named_transformers_['cat'].named_steps['onehot'].categories_"
   ]
  },
  {
   "cell_type": "code",
   "execution_count": 31,
   "id": "cd129eee-2900-4c46-b3bc-699ba984ed0b",
   "metadata": {},
   "outputs": [],
   "source": [
    "cat_features_cats = [(feat, list(clf.named_steps['preprocessor'].named_transformers_['cat'].named_steps['onehot'].categories_[i])) for i, feat in enumerate(cat_features)]"
   ]
  },
  {
   "cell_type": "code",
   "execution_count": 32,
   "id": "2e9fd7a1-eea6-45ab-83c5-b3096656f38c",
   "metadata": {},
   "outputs": [
    {
     "data": {
      "text/plain": [
       "[('Geschlecht', ['männlich', 'weiblich']),\n",
       " ('Arbeitsstelle',\n",
       "  ['hohe Qualifikation',\n",
       "   'mittlere Qualifikation',\n",
       "   'niedrige Qualifikation - permanent',\n",
       "   'niedrige Qualifikation - temporär']),\n",
       " ('Wohnsituation', ['Eigentum', 'Miete', 'kostenlos']),\n",
       " ('Sparkonto', ['gering', 'hoch', 'mittel', 'sehr hoch', nan]),\n",
       " ('Lohnkonto', ['gering', 'hoch', 'mittel', nan]),\n",
       " ('Verwendungszweck',\n",
       "  ['Ausbildung',\n",
       "   'Fahrzeug',\n",
       "   'Ferien/andere',\n",
       "   'Geschäft',\n",
       "   'Haushaltsgeräte',\n",
       "   'Unterhalt',\n",
       "   'Unterhaltungselektronik',\n",
       "   'Wohnungsreinrichtung'])]"
      ]
     },
     "execution_count": 32,
     "metadata": {},
     "output_type": "execute_result"
    }
   ],
   "source": [
    "cat_features_cats"
   ]
  },
  {
   "cell_type": "code",
   "execution_count": 33,
   "id": "7a593818-256e-4b82-96e1-7021edbd1794",
   "metadata": {},
   "outputs": [
    {
     "data": {
      "text/plain": [
       "['Alter', 'Kreditbetrag', 'Laufzeit']"
      ]
     },
     "execution_count": 33,
     "metadata": {},
     "output_type": "execute_result"
    }
   ],
   "source": [
    "num_features"
   ]
  },
  {
   "cell_type": "code",
   "execution_count": 34,
   "id": "3643f30d-cc6f-4261-beb1-989b09c4140b",
   "metadata": {},
   "outputs": [
    {
     "data": {
      "text/plain": [
       "array([1], dtype=int64)"
      ]
     },
     "execution_count": 34,
     "metadata": {},
     "output_type": "execute_result"
    }
   ],
   "source": [
    "clf.predict(pd.DataFrame.from_records(data))"
   ]
  },
  {
   "cell_type": "code",
   "execution_count": null,
   "id": "2ffe1034-6267-4995-b242-bf98eb479d45",
   "metadata": {},
   "outputs": [],
   "source": []
  },
  {
   "cell_type": "code",
   "execution_count": 38,
   "id": "83825335-b11e-4a45-98a4-4431735e63bf",
   "metadata": {},
   "outputs": [
    {
     "data": {
      "text/plain": [
       "['models\\\\clfn.joblib']"
      ]
     },
     "execution_count": 38,
     "metadata": {},
     "output_type": "execute_result"
    }
   ],
   "source": [
    "dump(clf, os.path.join('models', 'clfn.joblib'))"
   ]
  },
  {
   "cell_type": "code",
   "execution_count": 39,
   "id": "cceed1c4-2de0-454b-99bd-19642cd0f711",
   "metadata": {},
   "outputs": [],
   "source": [
    "l = load(os.path.join('models', 'clfn.joblib'))"
   ]
  },
  {
   "cell_type": "code",
   "execution_count": null,
   "id": "538ad3a8-668c-48c1-ae41-32853ebe046b",
   "metadata": {},
   "outputs": [],
   "source": []
  },
  {
   "cell_type": "code",
   "execution_count": null,
   "id": "184a83d7-06a9-432f-892d-ee41a778e904",
   "metadata": {},
   "outputs": [],
   "source": []
  }
 ],
 "metadata": {
  "kernelspec": {
   "display_name": "Python 3",
   "language": "python",
   "name": "python3"
  },
  "language_info": {
   "codemirror_mode": {
    "name": "ipython",
    "version": 3
   },
   "file_extension": ".py",
   "mimetype": "text/x-python",
   "name": "python",
   "nbconvert_exporter": "python",
   "pygments_lexer": "ipython3",
   "version": "3.9.12"
  }
 },
 "nbformat": 4,
 "nbformat_minor": 5
}
